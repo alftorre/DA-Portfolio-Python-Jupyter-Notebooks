{
 "cells": [
  {
   "cell_type": "raw",
   "id": "2ca4fd8a-5db8-4463-8438-4a18048ad382",
   "metadata": {},
   "source": [
    "You’ve discovered that pandas is a Python library that facilitates reviewing and manipulating tabular data. In addition, groupby() and agg() are essential DataFrame methods that data professionals use to group, aggregate, summarize, and better understand data. In this reading, you’ll review how these functions work, as well as when and how to apply them. \n"
   ]
  },
  {
   "cell_type": "code",
   "execution_count": null,
   "id": "88dec041-b180-4335-b666-a1da4e560e7f",
   "metadata": {},
   "outputs": [],
   "source": [
    "Aggregation: Computing summary statistics for each group\n",
    "\n",
    "Transformation: Applying functions to each group and returning modified data\n",
    "\n",
    "Filtration: Selecting specific groups based on certain conditions\n",
    "\n",
    "Iteration: Iterating over groups or values"
   ]
  },
  {
   "cell_type": "code",
   "execution_count": 7,
   "id": "3a15e8e7-7963-4c63-bdb7-46de24a9c308",
   "metadata": {},
   "outputs": [],
   "source": [
    "import numpy as np\n",
    "import pandas as pd"
   ]
  },
  {
   "cell_type": "code",
   "execution_count": 8,
   "id": "21308f81-01b4-4505-b565-8e3f87d296b4",
   "metadata": {},
   "outputs": [
    {
     "data": {
      "text/html": [
       "<div>\n",
       "<style scoped>\n",
       "    .dataframe tbody tr th:only-of-type {\n",
       "        vertical-align: middle;\n",
       "    }\n",
       "\n",
       "    .dataframe tbody tr th {\n",
       "        vertical-align: top;\n",
       "    }\n",
       "\n",
       "    .dataframe thead th {\n",
       "        text-align: right;\n",
       "    }\n",
       "</style>\n",
       "<table border=\"1\" class=\"dataframe\">\n",
       "  <thead>\n",
       "    <tr style=\"text-align: right;\">\n",
       "      <th></th>\n",
       "      <th>type</th>\n",
       "      <th>color</th>\n",
       "      <th>price_usd</th>\n",
       "      <th>mass_g</th>\n",
       "    </tr>\n",
       "  </thead>\n",
       "  <tbody>\n",
       "    <tr>\n",
       "      <th>0</th>\n",
       "      <td>pants</td>\n",
       "      <td>red</td>\n",
       "      <td>20</td>\n",
       "      <td>125</td>\n",
       "    </tr>\n",
       "    <tr>\n",
       "      <th>1</th>\n",
       "      <td>shirt</td>\n",
       "      <td>blue</td>\n",
       "      <td>35</td>\n",
       "      <td>440</td>\n",
       "    </tr>\n",
       "    <tr>\n",
       "      <th>2</th>\n",
       "      <td>shirt</td>\n",
       "      <td>green</td>\n",
       "      <td>50</td>\n",
       "      <td>680</td>\n",
       "    </tr>\n",
       "    <tr>\n",
       "      <th>3</th>\n",
       "      <td>pants</td>\n",
       "      <td>blue</td>\n",
       "      <td>40</td>\n",
       "      <td>200</td>\n",
       "    </tr>\n",
       "    <tr>\n",
       "      <th>4</th>\n",
       "      <td>shirt</td>\n",
       "      <td>green</td>\n",
       "      <td>100</td>\n",
       "      <td>395</td>\n",
       "    </tr>\n",
       "    <tr>\n",
       "      <th>5</th>\n",
       "      <td>pants</td>\n",
       "      <td>red</td>\n",
       "      <td>75</td>\n",
       "      <td>485</td>\n",
       "    </tr>\n",
       "  </tbody>\n",
       "</table>\n",
       "</div>"
      ],
      "text/plain": [
       "    type  color  price_usd  mass_g\n",
       "0  pants    red         20     125\n",
       "1  shirt   blue         35     440\n",
       "2  shirt  green         50     680\n",
       "3  pants   blue         40     200\n",
       "4  shirt  green        100     395\n",
       "5  pants    red         75     485"
      ]
     },
     "execution_count": 8,
     "metadata": {},
     "output_type": "execute_result"
    }
   ],
   "source": [
    "\n",
    "clothes = pd.DataFrame({'type': ['pants', 'shirt', 'shirt', 'pants', 'shirt', 'pants'],\n",
    "                       'color': ['red', 'blue', 'green', 'blue', 'green', 'red'],\n",
    "                       'price_usd': [20, 35, 50, 40, 100, 75],\n",
    "                       'mass_g': [125, 440, 680, 200, 395, 485]})\n",
    "\n",
    "\n",
    "clothes"
   ]
  },
  {
   "cell_type": "code",
   "execution_count": 9,
   "id": "1494b344-ba89-46da-8c15-eb7f56b4366d",
   "metadata": {},
   "outputs": [
    {
     "name": "stdout",
     "output_type": "stream",
     "text": [
      "<pandas.core.groupby.generic.DataFrameGroupBy object at 0x000002A055388410>\n",
      "<class 'pandas.core.groupby.generic.DataFrameGroupBy'>\n"
     ]
    }
   ],
   "source": [
    "grouped = clothes.groupby('type')\n",
    "print(grouped)\n",
    "print(type(grouped))"
   ]
  },
  {
   "cell_type": "code",
   "execution_count": 12,
   "id": "3216e040-ac57-40a9-8f1c-ffc26829c561",
   "metadata": {},
   "outputs": [
    {
     "data": {
      "text/html": [
       "<div>\n",
       "<style scoped>\n",
       "    .dataframe tbody tr th:only-of-type {\n",
       "        vertical-align: middle;\n",
       "    }\n",
       "\n",
       "    .dataframe tbody tr th {\n",
       "        vertical-align: top;\n",
       "    }\n",
       "\n",
       "    .dataframe thead th {\n",
       "        text-align: right;\n",
       "    }\n",
       "</style>\n",
       "<table border=\"1\" class=\"dataframe\">\n",
       "  <thead>\n",
       "    <tr style=\"text-align: right;\">\n",
       "      <th></th>\n",
       "      <th>price_usd</th>\n",
       "      <th>mass_g</th>\n",
       "    </tr>\n",
       "    <tr>\n",
       "      <th>type</th>\n",
       "      <th></th>\n",
       "      <th></th>\n",
       "    </tr>\n",
       "  </thead>\n",
       "  <tbody>\n",
       "    <tr>\n",
       "      <th>pants</th>\n",
       "      <td>45.000000</td>\n",
       "      <td>270.0</td>\n",
       "    </tr>\n",
       "    <tr>\n",
       "      <th>shirt</th>\n",
       "      <td>61.666667</td>\n",
       "      <td>505.0</td>\n",
       "    </tr>\n",
       "  </tbody>\n",
       "</table>\n",
       "</div>"
      ],
      "text/plain": [
       "       price_usd  mass_g\n",
       "type                    \n",
       "pants  45.000000   270.0\n",
       "shirt  61.666667   505.0"
      ]
     },
     "execution_count": 12,
     "metadata": {},
     "output_type": "execute_result"
    }
   ],
   "source": [
    "grouped.mean(c) # careful, this doesn't work without the true"
   ]
  },
  {
   "cell_type": "code",
   "execution_count": 15,
   "id": "0a2dedaf-4261-483d-87ce-e9ce58a78a84",
   "metadata": {},
   "outputs": [
    {
     "data": {
      "text/html": [
       "<div>\n",
       "<style scoped>\n",
       "    .dataframe tbody tr th:only-of-type {\n",
       "        vertical-align: middle;\n",
       "    }\n",
       "\n",
       "    .dataframe tbody tr th {\n",
       "        vertical-align: top;\n",
       "    }\n",
       "\n",
       "    .dataframe thead th {\n",
       "        text-align: right;\n",
       "    }\n",
       "</style>\n",
       "<table border=\"1\" class=\"dataframe\">\n",
       "  <thead>\n",
       "    <tr style=\"text-align: right;\">\n",
       "      <th></th>\n",
       "      <th></th>\n",
       "      <th>price_usd</th>\n",
       "      <th>mass_g</th>\n",
       "    </tr>\n",
       "    <tr>\n",
       "      <th>type</th>\n",
       "      <th>color</th>\n",
       "      <th></th>\n",
       "      <th></th>\n",
       "    </tr>\n",
       "  </thead>\n",
       "  <tbody>\n",
       "    <tr>\n",
       "      <th rowspan=\"2\" valign=\"top\">pants</th>\n",
       "      <th>blue</th>\n",
       "      <td>40</td>\n",
       "      <td>200</td>\n",
       "    </tr>\n",
       "    <tr>\n",
       "      <th>red</th>\n",
       "      <td>20</td>\n",
       "      <td>125</td>\n",
       "    </tr>\n",
       "    <tr>\n",
       "      <th rowspan=\"2\" valign=\"top\">shirt</th>\n",
       "      <th>blue</th>\n",
       "      <td>35</td>\n",
       "      <td>440</td>\n",
       "    </tr>\n",
       "    <tr>\n",
       "      <th>green</th>\n",
       "      <td>50</td>\n",
       "      <td>395</td>\n",
       "    </tr>\n",
       "  </tbody>\n",
       "</table>\n",
       "</div>"
      ],
      "text/plain": [
       "             price_usd  mass_g\n",
       "type  color                   \n",
       "pants blue          40     200\n",
       "      red           20     125\n",
       "shirt blue          35     440\n",
       "      green         50     395"
      ]
     },
     "execution_count": 15,
     "metadata": {},
     "output_type": "execute_result"
    }
   ],
   "source": [
    "clothes.groupby(['type','color']).min()\n"
   ]
  },
  {
   "cell_type": "raw",
   "id": "46731ec7-fd3d-48cf-b470-68f4d6e36f53",
   "metadata": {},
   "source": [
    "To simply return the number of observations there are in each group, use the size() method. This will result in a Series object with the relevant information:"
   ]
  },
  {
   "cell_type": "code",
   "execution_count": 16,
   "id": "a2b3b509-ae6c-4fb3-a881-1c96b99f5c59",
   "metadata": {},
   "outputs": [
    {
     "data": {
      "text/plain": [
       "type   color\n",
       "pants  blue     1\n",
       "       red      2\n",
       "shirt  blue     1\n",
       "       green    2\n",
       "dtype: int64"
      ]
     },
     "execution_count": 16,
     "metadata": {},
     "output_type": "execute_result"
    }
   ],
   "source": [
    "clothes.groupby(['type','color']).size()\n",
    "\n"
   ]
  },
  {
   "cell_type": "raw",
   "id": "c5d154a7-6804-4331-9c78-9f6466af7e3a",
   "metadata": {},
   "source": [
    "count(): The number of non-null values in each group\n",
    "\n",
    "sum(): The sum of values in each group\n",
    "\n",
    "mean(): The mean of values in each group\n",
    "\n",
    "median(): The median of values in each group\n",
    "\n",
    "min(): The minimum value in each group\n",
    "\n",
    "max(): The maximum value in each group\n",
    "\n",
    "std(): The standard deviation of values in each group\n",
    "\n",
    "var(): The variance of values in each group"
   ]
  },
  {
   "cell_type": "raw",
   "id": "917e9d7b-dec4-41f5-8970-ba85a7553dd3",
   "metadata": {},
   "source": [
    "agg()\n",
    "The \n",
    "agg()\n",
    " function is useful when you want to apply multiple functions to a dataframe at the same time. agg() is a method that belongs to the DataFrame class. It stands for “aggregate.” Its most important parameters are:  \n",
    "\n",
    "func: The function to be applied\n",
    "\n",
    "axis: The axis over which to apply the function (default= 0). "
   ]
  },
  {
   "cell_type": "code",
   "execution_count": 17,
   "id": "8e98b769-9780-4436-b516-f653def314ef",
   "metadata": {},
   "outputs": [
    {
     "data": {
      "text/html": [
       "<div>\n",
       "<style scoped>\n",
       "    .dataframe tbody tr th:only-of-type {\n",
       "        vertical-align: middle;\n",
       "    }\n",
       "\n",
       "    .dataframe tbody tr th {\n",
       "        vertical-align: top;\n",
       "    }\n",
       "\n",
       "    .dataframe thead th {\n",
       "        text-align: right;\n",
       "    }\n",
       "</style>\n",
       "<table border=\"1\" class=\"dataframe\">\n",
       "  <thead>\n",
       "    <tr style=\"text-align: right;\">\n",
       "      <th></th>\n",
       "      <th>type</th>\n",
       "      <th>color</th>\n",
       "      <th>price_usd</th>\n",
       "      <th>mass_g</th>\n",
       "    </tr>\n",
       "  </thead>\n",
       "  <tbody>\n",
       "    <tr>\n",
       "      <th>0</th>\n",
       "      <td>pants</td>\n",
       "      <td>red</td>\n",
       "      <td>20</td>\n",
       "      <td>125</td>\n",
       "    </tr>\n",
       "    <tr>\n",
       "      <th>1</th>\n",
       "      <td>shirt</td>\n",
       "      <td>blue</td>\n",
       "      <td>35</td>\n",
       "      <td>440</td>\n",
       "    </tr>\n",
       "    <tr>\n",
       "      <th>2</th>\n",
       "      <td>shirt</td>\n",
       "      <td>green</td>\n",
       "      <td>50</td>\n",
       "      <td>680</td>\n",
       "    </tr>\n",
       "    <tr>\n",
       "      <th>3</th>\n",
       "      <td>pants</td>\n",
       "      <td>blue</td>\n",
       "      <td>40</td>\n",
       "      <td>200</td>\n",
       "    </tr>\n",
       "    <tr>\n",
       "      <th>4</th>\n",
       "      <td>shirt</td>\n",
       "      <td>green</td>\n",
       "      <td>100</td>\n",
       "      <td>395</td>\n",
       "    </tr>\n",
       "    <tr>\n",
       "      <th>5</th>\n",
       "      <td>pants</td>\n",
       "      <td>red</td>\n",
       "      <td>75</td>\n",
       "      <td>485</td>\n",
       "    </tr>\n",
       "  </tbody>\n",
       "</table>\n",
       "</div>"
      ],
      "text/plain": [
       "    type  color  price_usd  mass_g\n",
       "0  pants    red         20     125\n",
       "1  shirt   blue         35     440\n",
       "2  shirt  green         50     680\n",
       "3  pants   blue         40     200\n",
       "4  shirt  green        100     395\n",
       "5  pants    red         75     485"
      ]
     },
     "execution_count": 17,
     "metadata": {},
     "output_type": "execute_result"
    }
   ],
   "source": [
    "clothes"
   ]
  },
  {
   "cell_type": "code",
   "execution_count": 18,
   "id": "2f28a94d-e3d3-4d95-b6b6-0604cbe85df1",
   "metadata": {},
   "outputs": [
    {
     "data": {
      "text/html": [
       "<div>\n",
       "<style scoped>\n",
       "    .dataframe tbody tr th:only-of-type {\n",
       "        vertical-align: middle;\n",
       "    }\n",
       "\n",
       "    .dataframe tbody tr th {\n",
       "        vertical-align: top;\n",
       "    }\n",
       "\n",
       "    .dataframe thead th {\n",
       "        text-align: right;\n",
       "    }\n",
       "</style>\n",
       "<table border=\"1\" class=\"dataframe\">\n",
       "  <thead>\n",
       "    <tr style=\"text-align: right;\">\n",
       "      <th></th>\n",
       "      <th>price_usd</th>\n",
       "      <th>mass_g</th>\n",
       "    </tr>\n",
       "  </thead>\n",
       "  <tbody>\n",
       "    <tr>\n",
       "      <th>sum</th>\n",
       "      <td>320.000000</td>\n",
       "      <td>2325.0</td>\n",
       "    </tr>\n",
       "    <tr>\n",
       "      <th>mean</th>\n",
       "      <td>53.333333</td>\n",
       "      <td>387.5</td>\n",
       "    </tr>\n",
       "  </tbody>\n",
       "</table>\n",
       "</div>"
      ],
      "text/plain": [
       "       price_usd  mass_g\n",
       "sum   320.000000  2325.0\n",
       "mean   53.333333   387.5"
      ]
     },
     "execution_count": 18,
     "metadata": {},
     "output_type": "execute_result"
    }
   ],
   "source": [
    "clothes[['price_usd', 'mass_g']].agg(['sum', 'mean'])"
   ]
  },
  {
   "cell_type": "code",
   "execution_count": 19,
   "id": "718923d9-b1f2-4305-87dc-b362baf85ab5",
   "metadata": {},
   "outputs": [
    {
     "data": {
      "text/html": [
       "<div>\n",
       "<style scoped>\n",
       "    .dataframe tbody tr th:only-of-type {\n",
       "        vertical-align: middle;\n",
       "    }\n",
       "\n",
       "    .dataframe tbody tr th {\n",
       "        vertical-align: top;\n",
       "    }\n",
       "\n",
       "    .dataframe thead th {\n",
       "        text-align: right;\n",
       "    }\n",
       "</style>\n",
       "<table border=\"1\" class=\"dataframe\">\n",
       "  <thead>\n",
       "    <tr style=\"text-align: right;\">\n",
       "      <th></th>\n",
       "      <th>price_usd</th>\n",
       "      <th>mass_g</th>\n",
       "    </tr>\n",
       "  </thead>\n",
       "  <tbody>\n",
       "    <tr>\n",
       "      <th>sum</th>\n",
       "      <td>320.0</td>\n",
       "      <td>NaN</td>\n",
       "    </tr>\n",
       "    <tr>\n",
       "      <th>mean</th>\n",
       "      <td>NaN</td>\n",
       "      <td>387.5</td>\n",
       "    </tr>\n",
       "    <tr>\n",
       "      <th>median</th>\n",
       "      <td>NaN</td>\n",
       "      <td>417.5</td>\n",
       "    </tr>\n",
       "  </tbody>\n",
       "</table>\n",
       "</div>"
      ],
      "text/plain": [
       "        price_usd  mass_g\n",
       "sum         320.0     NaN\n",
       "mean          NaN   387.5\n",
       "median        NaN   417.5"
      ]
     },
     "execution_count": 19,
     "metadata": {},
     "output_type": "execute_result"
    }
   ],
   "source": [
    "clothes.agg({'price_usd': 'sum', 'mass_g': ['mean','median']})\n",
    "# Again, each built-in function is entered as a string without parentheses."
   ]
  },
  {
   "cell_type": "raw",
   "id": "7b22d0d1-0aad-4946-8eaa-aec6b00a624d",
   "metadata": {},
   "source": [
    "The following example applies the sum() and mean() functions across axis 1. In other words, instead of applying the functions down each column, they’re applied over each row."
   ]
  },
  {
   "cell_type": "code",
   "execution_count": 20,
   "id": "b6ab395e-3810-40d9-85e2-32100b8b3e46",
   "metadata": {},
   "outputs": [
    {
     "data": {
      "text/html": [
       "<div>\n",
       "<style scoped>\n",
       "    .dataframe tbody tr th:only-of-type {\n",
       "        vertical-align: middle;\n",
       "    }\n",
       "\n",
       "    .dataframe tbody tr th {\n",
       "        vertical-align: top;\n",
       "    }\n",
       "\n",
       "    .dataframe thead th {\n",
       "        text-align: right;\n",
       "    }\n",
       "</style>\n",
       "<table border=\"1\" class=\"dataframe\">\n",
       "  <thead>\n",
       "    <tr style=\"text-align: right;\">\n",
       "      <th></th>\n",
       "      <th>sum</th>\n",
       "      <th>mean</th>\n",
       "    </tr>\n",
       "  </thead>\n",
       "  <tbody>\n",
       "    <tr>\n",
       "      <th>0</th>\n",
       "      <td>145.0</td>\n",
       "      <td>72.5</td>\n",
       "    </tr>\n",
       "    <tr>\n",
       "      <th>1</th>\n",
       "      <td>475.0</td>\n",
       "      <td>237.5</td>\n",
       "    </tr>\n",
       "    <tr>\n",
       "      <th>2</th>\n",
       "      <td>730.0</td>\n",
       "      <td>365.0</td>\n",
       "    </tr>\n",
       "    <tr>\n",
       "      <th>3</th>\n",
       "      <td>240.0</td>\n",
       "      <td>120.0</td>\n",
       "    </tr>\n",
       "    <tr>\n",
       "      <th>4</th>\n",
       "      <td>495.0</td>\n",
       "      <td>247.5</td>\n",
       "    </tr>\n",
       "    <tr>\n",
       "      <th>5</th>\n",
       "      <td>560.0</td>\n",
       "      <td>280.0</td>\n",
       "    </tr>\n",
       "  </tbody>\n",
       "</table>\n",
       "</div>"
      ],
      "text/plain": [
       "     sum   mean\n",
       "0  145.0   72.5\n",
       "1  475.0  237.5\n",
       "2  730.0  365.0\n",
       "3  240.0  120.0\n",
       "4  495.0  247.5\n",
       "5  560.0  280.0"
      ]
     },
     "execution_count": 20,
     "metadata": {},
     "output_type": "execute_result"
    }
   ],
   "source": [
    "clothes[['price_usd','mass_g']].agg(['sum','mean'], axis=1)\n"
   ]
  },
  {
   "cell_type": "code",
   "execution_count": 21,
   "id": "9b2504f5-cd59-4079-8123-e771e4bc5644",
   "metadata": {},
   "outputs": [
    {
     "data": {
      "text/html": [
       "<div>\n",
       "<style scoped>\n",
       "    .dataframe tbody tr th:only-of-type {\n",
       "        vertical-align: middle;\n",
       "    }\n",
       "\n",
       "    .dataframe tbody tr th {\n",
       "        vertical-align: top;\n",
       "    }\n",
       "\n",
       "    .dataframe thead tr th {\n",
       "        text-align: left;\n",
       "    }\n",
       "\n",
       "    .dataframe thead tr:last-of-type th {\n",
       "        text-align: right;\n",
       "    }\n",
       "</style>\n",
       "<table border=\"1\" class=\"dataframe\">\n",
       "  <thead>\n",
       "    <tr>\n",
       "      <th></th>\n",
       "      <th colspan=\"2\" halign=\"left\">price_usd</th>\n",
       "      <th colspan=\"2\" halign=\"left\">mass_g</th>\n",
       "    </tr>\n",
       "    <tr>\n",
       "      <th></th>\n",
       "      <th>mean</th>\n",
       "      <th>max</th>\n",
       "      <th>mean</th>\n",
       "      <th>max</th>\n",
       "    </tr>\n",
       "    <tr>\n",
       "      <th>color</th>\n",
       "      <th></th>\n",
       "      <th></th>\n",
       "      <th></th>\n",
       "      <th></th>\n",
       "    </tr>\n",
       "  </thead>\n",
       "  <tbody>\n",
       "    <tr>\n",
       "      <th>blue</th>\n",
       "      <td>37.5</td>\n",
       "      <td>40</td>\n",
       "      <td>320.0</td>\n",
       "      <td>440</td>\n",
       "    </tr>\n",
       "    <tr>\n",
       "      <th>green</th>\n",
       "      <td>75.0</td>\n",
       "      <td>100</td>\n",
       "      <td>537.5</td>\n",
       "      <td>680</td>\n",
       "    </tr>\n",
       "    <tr>\n",
       "      <th>red</th>\n",
       "      <td>47.5</td>\n",
       "      <td>75</td>\n",
       "      <td>305.0</td>\n",
       "      <td>485</td>\n",
       "    </tr>\n",
       "  </tbody>\n",
       "</table>\n",
       "</div>"
      ],
      "text/plain": [
       "      price_usd      mass_g     \n",
       "           mean  max   mean  max\n",
       "color                           \n",
       "blue       37.5   40  320.0  440\n",
       "green      75.0  100  537.5  680\n",
       "red        47.5   75  305.0  485"
      ]
     },
     "execution_count": 21,
     "metadata": {},
     "output_type": "execute_result"
    }
   ],
   "source": [
    "# Group by and Aggregate together\n",
    "clothes.groupby('color').agg({'price_usd': ['mean','max'],'mass_g':['mean','max']})"
   ]
  },
  {
   "cell_type": "code",
   "execution_count": 22,
   "id": "3b4ec622-9edc-42cf-9516-48e8513edafa",
   "metadata": {},
   "outputs": [
    {
     "data": {
      "text/html": [
       "<div>\n",
       "<style scoped>\n",
       "    .dataframe tbody tr th:only-of-type {\n",
       "        vertical-align: middle;\n",
       "    }\n",
       "\n",
       "    .dataframe tbody tr th {\n",
       "        vertical-align: top;\n",
       "    }\n",
       "\n",
       "    .dataframe thead tr th {\n",
       "        text-align: left;\n",
       "    }\n",
       "\n",
       "    .dataframe thead tr:last-of-type th {\n",
       "        text-align: right;\n",
       "    }\n",
       "</style>\n",
       "<table border=\"1\" class=\"dataframe\">\n",
       "  <thead>\n",
       "    <tr>\n",
       "      <th></th>\n",
       "      <th></th>\n",
       "      <th colspan=\"2\" halign=\"left\">price_usd</th>\n",
       "      <th colspan=\"2\" halign=\"left\">mass_g</th>\n",
       "    </tr>\n",
       "    <tr>\n",
       "      <th></th>\n",
       "      <th></th>\n",
       "      <th>mean</th>\n",
       "      <th>min</th>\n",
       "      <th>mean</th>\n",
       "      <th>min</th>\n",
       "    </tr>\n",
       "    <tr>\n",
       "      <th>color</th>\n",
       "      <th>type</th>\n",
       "      <th></th>\n",
       "      <th></th>\n",
       "      <th></th>\n",
       "      <th></th>\n",
       "    </tr>\n",
       "  </thead>\n",
       "  <tbody>\n",
       "    <tr>\n",
       "      <th rowspan=\"2\" valign=\"top\">blue</th>\n",
       "      <th>pants</th>\n",
       "      <td>40.0</td>\n",
       "      <td>40</td>\n",
       "      <td>200.0</td>\n",
       "      <td>200</td>\n",
       "    </tr>\n",
       "    <tr>\n",
       "      <th>shirt</th>\n",
       "      <td>35.0</td>\n",
       "      <td>35</td>\n",
       "      <td>440.0</td>\n",
       "      <td>440</td>\n",
       "    </tr>\n",
       "    <tr>\n",
       "      <th>green</th>\n",
       "      <th>shirt</th>\n",
       "      <td>75.0</td>\n",
       "      <td>50</td>\n",
       "      <td>537.5</td>\n",
       "      <td>395</td>\n",
       "    </tr>\n",
       "    <tr>\n",
       "      <th>red</th>\n",
       "      <th>pants</th>\n",
       "      <td>47.5</td>\n",
       "      <td>20</td>\n",
       "      <td>305.0</td>\n",
       "      <td>125</td>\n",
       "    </tr>\n",
       "  </tbody>\n",
       "</table>\n",
       "</div>"
      ],
      "text/plain": [
       "            price_usd     mass_g     \n",
       "                 mean min   mean  min\n",
       "color type                           \n",
       "blue  pants      40.0  40  200.0  200\n",
       "      shirt      35.0  35  440.0  440\n",
       "green shirt      75.0  50  537.5  395\n",
       "red   pants      47.5  20  305.0  125"
      ]
     },
     "execution_count": 22,
     "metadata": {},
     "output_type": "execute_result"
    }
   ],
   "source": [
    "grouped = clothes.groupby(['color', 'type']).agg(['mean', 'min'])\n",
    "grouped"
   ]
  },
  {
   "cell_type": "code",
   "execution_count": 23,
   "id": "64ec9ffd-7355-471e-a7a0-cfd6e74006d9",
   "metadata": {},
   "outputs": [
    {
     "data": {
      "text/plain": [
       "MultiIndex([( 'blue', 'pants'),\n",
       "            ( 'blue', 'shirt'),\n",
       "            ('green', 'shirt'),\n",
       "            (  'red', 'pants')],\n",
       "           names=['color', 'type'])"
      ]
     },
     "execution_count": 23,
     "metadata": {},
     "output_type": "execute_result"
    }
   ],
   "source": [
    "grouped.index"
   ]
  },
  {
   "cell_type": "code",
   "execution_count": 24,
   "id": "40fa36ea-4c0f-4b7a-8f19-4bccdab8e9c2",
   "metadata": {},
   "outputs": [
    {
     "data": {
      "text/plain": [
       "MultiIndex([('price_usd', 'mean'),\n",
       "            ('price_usd',  'min'),\n",
       "            (   'mass_g', 'mean'),\n",
       "            (   'mass_g',  'min')],\n",
       "           )"
      ]
     },
     "execution_count": 24,
     "metadata": {},
     "output_type": "execute_result"
    }
   ],
   "source": [
    "grouped.columns"
   ]
  },
  {
   "cell_type": "code",
   "execution_count": 25,
   "id": "d0c45698-da85-4582-aac1-6855f5bbbec5",
   "metadata": {},
   "outputs": [
    {
     "data": {
      "text/html": [
       "<div>\n",
       "<style scoped>\n",
       "    .dataframe tbody tr th:only-of-type {\n",
       "        vertical-align: middle;\n",
       "    }\n",
       "\n",
       "    .dataframe tbody tr th {\n",
       "        vertical-align: top;\n",
       "    }\n",
       "\n",
       "    .dataframe thead tr th {\n",
       "        text-align: left;\n",
       "    }\n",
       "\n",
       "    .dataframe thead tr:last-of-type th {\n",
       "        text-align: right;\n",
       "    }\n",
       "</style>\n",
       "<table border=\"1\" class=\"dataframe\">\n",
       "  <thead>\n",
       "    <tr>\n",
       "      <th></th>\n",
       "      <th></th>\n",
       "      <th colspan=\"2\" halign=\"left\">price_usd</th>\n",
       "      <th colspan=\"2\" halign=\"left\">mass_g</th>\n",
       "    </tr>\n",
       "    <tr>\n",
       "      <th></th>\n",
       "      <th></th>\n",
       "      <th>mean</th>\n",
       "      <th>min</th>\n",
       "      <th>mean</th>\n",
       "      <th>min</th>\n",
       "    </tr>\n",
       "    <tr>\n",
       "      <th>color</th>\n",
       "      <th>type</th>\n",
       "      <th></th>\n",
       "      <th></th>\n",
       "      <th></th>\n",
       "      <th></th>\n",
       "    </tr>\n",
       "  </thead>\n",
       "  <tbody>\n",
       "    <tr>\n",
       "      <th rowspan=\"2\" valign=\"top\">blue</th>\n",
       "      <th>pants</th>\n",
       "      <td>40.0</td>\n",
       "      <td>40</td>\n",
       "      <td>200.0</td>\n",
       "      <td>200</td>\n",
       "    </tr>\n",
       "    <tr>\n",
       "      <th>shirt</th>\n",
       "      <td>35.0</td>\n",
       "      <td>35</td>\n",
       "      <td>440.0</td>\n",
       "      <td>440</td>\n",
       "    </tr>\n",
       "    <tr>\n",
       "      <th>green</th>\n",
       "      <th>shirt</th>\n",
       "      <td>75.0</td>\n",
       "      <td>50</td>\n",
       "      <td>537.5</td>\n",
       "      <td>395</td>\n",
       "    </tr>\n",
       "    <tr>\n",
       "      <th>red</th>\n",
       "      <th>pants</th>\n",
       "      <td>47.5</td>\n",
       "      <td>20</td>\n",
       "      <td>305.0</td>\n",
       "      <td>125</td>\n",
       "    </tr>\n",
       "  </tbody>\n",
       "</table>\n",
       "</div>"
      ],
      "text/plain": [
       "            price_usd     mass_g     \n",
       "                 mean min   mean  min\n",
       "color type                           \n",
       "blue  pants      40.0  40  200.0  200\n",
       "      shirt      35.0  35  440.0  440\n",
       "green shirt      75.0  50  537.5  395\n",
       "red   pants      47.5  20  305.0  125"
      ]
     },
     "execution_count": 25,
     "metadata": {},
     "output_type": "execute_result"
    }
   ],
   "source": [
    "grouped"
   ]
  },
  {
   "cell_type": "code",
   "execution_count": 26,
   "id": "a795ed19-5940-46b1-8847-cd7a50716ab6",
   "metadata": {},
   "outputs": [
    {
     "data": {
      "text/html": [
       "<div>\n",
       "<style scoped>\n",
       "    .dataframe tbody tr th:only-of-type {\n",
       "        vertical-align: middle;\n",
       "    }\n",
       "\n",
       "    .dataframe tbody tr th {\n",
       "        vertical-align: top;\n",
       "    }\n",
       "\n",
       "    .dataframe thead th {\n",
       "        text-align: right;\n",
       "    }\n",
       "</style>\n",
       "<table border=\"1\" class=\"dataframe\">\n",
       "  <thead>\n",
       "    <tr style=\"text-align: right;\">\n",
       "      <th></th>\n",
       "      <th></th>\n",
       "      <th>mean</th>\n",
       "      <th>min</th>\n",
       "    </tr>\n",
       "    <tr>\n",
       "      <th>color</th>\n",
       "      <th>type</th>\n",
       "      <th></th>\n",
       "      <th></th>\n",
       "    </tr>\n",
       "  </thead>\n",
       "  <tbody>\n",
       "    <tr>\n",
       "      <th rowspan=\"2\" valign=\"top\">blue</th>\n",
       "      <th>pants</th>\n",
       "      <td>40.0</td>\n",
       "      <td>40</td>\n",
       "    </tr>\n",
       "    <tr>\n",
       "      <th>shirt</th>\n",
       "      <td>35.0</td>\n",
       "      <td>35</td>\n",
       "    </tr>\n",
       "    <tr>\n",
       "      <th>green</th>\n",
       "      <th>shirt</th>\n",
       "      <td>75.0</td>\n",
       "      <td>50</td>\n",
       "    </tr>\n",
       "    <tr>\n",
       "      <th>red</th>\n",
       "      <th>pants</th>\n",
       "      <td>47.5</td>\n",
       "      <td>20</td>\n",
       "    </tr>\n",
       "  </tbody>\n",
       "</table>\n",
       "</div>"
      ],
      "text/plain": [
       "             mean  min\n",
       "color type            \n",
       "blue  pants  40.0   40\n",
       "      shirt  35.0   35\n",
       "green shirt  75.0   50\n",
       "red   pants  47.5   20"
      ]
     },
     "execution_count": 26,
     "metadata": {},
     "output_type": "execute_result"
    }
   ],
   "source": [
    "grouped.loc[:, 'price_usd']"
   ]
  },
  {
   "cell_type": "code",
   "execution_count": 27,
   "id": "f45b5944-ffec-44fd-8f8d-3adb8c74f3b6",
   "metadata": {},
   "outputs": [
    {
     "data": {
      "text/plain": [
       "color  type \n",
       "blue   pants    40\n",
       "       shirt    35\n",
       "green  shirt    50\n",
       "red    pants    20\n",
       "Name: (price_usd, min), dtype: int64"
      ]
     },
     "execution_count": 27,
     "metadata": {},
     "output_type": "execute_result"
    }
   ],
   "source": [
    "grouped.loc[:, ('price_usd', 'min')]"
   ]
  },
  {
   "cell_type": "code",
   "execution_count": 28,
   "id": "7b194b30-28a0-4ecd-84ad-91037d5563cd",
   "metadata": {},
   "outputs": [
    {
     "data": {
      "text/html": [
       "<div>\n",
       "<style scoped>\n",
       "    .dataframe tbody tr th:only-of-type {\n",
       "        vertical-align: middle;\n",
       "    }\n",
       "\n",
       "    .dataframe tbody tr th {\n",
       "        vertical-align: top;\n",
       "    }\n",
       "\n",
       "    .dataframe thead tr th {\n",
       "        text-align: left;\n",
       "    }\n",
       "\n",
       "    .dataframe thead tr:last-of-type th {\n",
       "        text-align: right;\n",
       "    }\n",
       "</style>\n",
       "<table border=\"1\" class=\"dataframe\">\n",
       "  <thead>\n",
       "    <tr>\n",
       "      <th></th>\n",
       "      <th colspan=\"2\" halign=\"left\">price_usd</th>\n",
       "      <th colspan=\"2\" halign=\"left\">mass_g</th>\n",
       "    </tr>\n",
       "    <tr>\n",
       "      <th></th>\n",
       "      <th>mean</th>\n",
       "      <th>min</th>\n",
       "      <th>mean</th>\n",
       "      <th>min</th>\n",
       "    </tr>\n",
       "    <tr>\n",
       "      <th>type</th>\n",
       "      <th></th>\n",
       "      <th></th>\n",
       "      <th></th>\n",
       "      <th></th>\n",
       "    </tr>\n",
       "  </thead>\n",
       "  <tbody>\n",
       "    <tr>\n",
       "      <th>pants</th>\n",
       "      <td>40.0</td>\n",
       "      <td>40</td>\n",
       "      <td>200.0</td>\n",
       "      <td>200</td>\n",
       "    </tr>\n",
       "    <tr>\n",
       "      <th>shirt</th>\n",
       "      <td>35.0</td>\n",
       "      <td>35</td>\n",
       "      <td>440.0</td>\n",
       "      <td>440</td>\n",
       "    </tr>\n",
       "  </tbody>\n",
       "</table>\n",
       "</div>"
      ],
      "text/plain": [
       "      price_usd     mass_g     \n",
       "           mean min   mean  min\n",
       "type                           \n",
       "pants      40.0  40  200.0  200\n",
       "shirt      35.0  35  440.0  440"
      ]
     },
     "execution_count": 28,
     "metadata": {},
     "output_type": "execute_result"
    }
   ],
   "source": [
    "#To select first-level (left-most) row:\n",
    "grouped.loc['blue', :]"
   ]
  },
  {
   "cell_type": "code",
   "execution_count": 29,
   "id": "9afc9a2d-1a9f-4512-8de6-f4c0cbdf4475",
   "metadata": {},
   "outputs": [
    {
     "data": {
      "text/plain": [
       "price_usd  mean     75.0\n",
       "           min      50.0\n",
       "mass_g     mean    537.5\n",
       "           min     395.0\n",
       "Name: (green, shirt), dtype: float64"
      ]
     },
     "execution_count": 29,
     "metadata": {},
     "output_type": "execute_result"
    }
   ],
   "source": [
    "#To select a bottom-level (right-most) row:\n",
    "grouped.loc[('green', 'shirt'), :]"
   ]
  },
  {
   "cell_type": "code",
   "execution_count": 33,
   "id": "324e60e2-78cf-49f2-9d4d-54ce1930e726",
   "metadata": {},
   "outputs": [
    {
     "data": {
      "text/plain": [
       "np.float64(440.0)"
      ]
     },
     "execution_count": 33,
     "metadata": {},
     "output_type": "execute_result"
    }
   ],
   "source": [
    "#Even select individual values\n",
    "grouped.loc[('blue', 'shirt'), ('mass_g', 'mean')]\n"
   ]
  },
  {
   "cell_type": "raw",
   "id": "307dadb7-c034-4d86-943e-a566c3356e9f",
   "metadata": {},
   "source": [
    "If you want to remove the row MultiIndex from a groupby result, include as_index=False as a parameter to your groupby() statement:\n",
    "\n",
    "THIS FLATTENS THE HIERARCHY PYRAMID OF VALUES INTO A FLAT TABLE"
   ]
  },
  {
   "cell_type": "code",
   "execution_count": 34,
   "id": "e7572ecb-01c5-42f0-bcbb-08ca85f8cca3",
   "metadata": {},
   "outputs": [
    {
     "data": {
      "text/html": [
       "<div>\n",
       "<style scoped>\n",
       "    .dataframe tbody tr th:only-of-type {\n",
       "        vertical-align: middle;\n",
       "    }\n",
       "\n",
       "    .dataframe tbody tr th {\n",
       "        vertical-align: top;\n",
       "    }\n",
       "\n",
       "    .dataframe thead th {\n",
       "        text-align: right;\n",
       "    }\n",
       "</style>\n",
       "<table border=\"1\" class=\"dataframe\">\n",
       "  <thead>\n",
       "    <tr style=\"text-align: right;\">\n",
       "      <th></th>\n",
       "      <th>color</th>\n",
       "      <th>type</th>\n",
       "      <th>price_usd</th>\n",
       "      <th>mass_g</th>\n",
       "    </tr>\n",
       "  </thead>\n",
       "  <tbody>\n",
       "    <tr>\n",
       "      <th>0</th>\n",
       "      <td>blue</td>\n",
       "      <td>pants</td>\n",
       "      <td>40.0</td>\n",
       "      <td>200.0</td>\n",
       "    </tr>\n",
       "    <tr>\n",
       "      <th>1</th>\n",
       "      <td>blue</td>\n",
       "      <td>shirt</td>\n",
       "      <td>35.0</td>\n",
       "      <td>440.0</td>\n",
       "    </tr>\n",
       "    <tr>\n",
       "      <th>2</th>\n",
       "      <td>green</td>\n",
       "      <td>shirt</td>\n",
       "      <td>75.0</td>\n",
       "      <td>537.5</td>\n",
       "    </tr>\n",
       "    <tr>\n",
       "      <th>3</th>\n",
       "      <td>red</td>\n",
       "      <td>pants</td>\n",
       "      <td>47.5</td>\n",
       "      <td>305.0</td>\n",
       "    </tr>\n",
       "  </tbody>\n",
       "</table>\n",
       "</div>"
      ],
      "text/plain": [
       "   color   type  price_usd  mass_g\n",
       "0   blue  pants       40.0   200.0\n",
       "1   blue  shirt       35.0   440.0\n",
       "2  green  shirt       75.0   537.5\n",
       "3    red  pants       47.5   305.0"
      ]
     },
     "execution_count": 34,
     "metadata": {},
     "output_type": "execute_result"
    }
   ],
   "source": [
    "clothes.groupby(['color', 'type'], as_index=False).mean()"
   ]
  },
  {
   "cell_type": "code",
   "execution_count": null,
   "id": "c6148c2b-3ebd-4ee0-ba93-b03ef39b2b95",
   "metadata": {},
   "outputs": [],
   "source": []
  }
 ],
 "metadata": {
  "kernelspec": {
   "display_name": "Python 3 (ipykernel)",
   "language": "python",
   "name": "python3"
  },
  "language_info": {
   "codemirror_mode": {
    "name": "ipython",
    "version": 3
   },
   "file_extension": ".py",
   "mimetype": "text/x-python",
   "name": "python",
   "nbconvert_exporter": "python",
   "pygments_lexer": "ipython3",
   "version": "3.13.1"
  }
 },
 "nbformat": 4,
 "nbformat_minor": 5
}
