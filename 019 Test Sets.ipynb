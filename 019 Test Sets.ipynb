{
 "cells": [
  {
   "cell_type": "code",
   "execution_count": 1,
   "id": "f6438b65-2915-47d8-ad66-77b43538bcd1",
   "metadata": {},
   "outputs": [],
   "source": [
    "#Create a set using curly braces, they look similar to dictionaries but are different\n",
    "\n",
    "my_set = {5,10,10,20}\n"
   ]
  },
  {
   "cell_type": "code",
   "execution_count": 2,
   "id": "dcce48db-4a89-486a-b92b-1a8b22059882",
   "metadata": {},
   "outputs": [
    {
     "data": {
      "text/plain": [
       "{1, 2, '2'}"
      ]
     },
     "execution_count": 2,
     "metadata": {},
     "output_type": "execute_result"
    }
   ],
   "source": [
    "# instantiating a set\n",
    "\n",
    "example_a =[1, 2, 2.0, '2']\n",
    "set(example_a)\n"
   ]
  },
  {
   "cell_type": "code",
   "execution_count": 6,
   "id": "fbcb07a1-3c47-43a0-a177-8bc5e5132f8e",
   "metadata": {},
   "outputs": [
    {
     "data": {
      "text/plain": [
       "{(1, 2, 2, 2, 3), 2, 'apple'}"
      ]
     },
     "execution_count": 6,
     "metadata": {},
     "output_type": "execute_result"
    }
   ],
   "source": [
    "example_b = ('apple',(1,2,2,2,3),2)\n",
    "set(example_b)"
   ]
  },
  {
   "cell_type": "code",
   "execution_count": 7,
   "id": "fbe2698e-a27c-4ed8-be35-e88eda54d512",
   "metadata": {},
   "outputs": [
    {
     "ename": "TypeError",
     "evalue": "unhashable type: 'set'",
     "output_type": "error",
     "traceback": [
      "\u001b[1;31m---------------------------------------------------------------------------\u001b[0m",
      "\u001b[1;31mTypeError\u001b[0m                                 Traceback (most recent call last)",
      "Cell \u001b[1;32mIn[7], line 2\u001b[0m\n\u001b[0;32m      1\u001b[0m example_c \u001b[38;5;241m=\u001b[39m [\u001b[38;5;241m1.5\u001b[39m, {\u001b[38;5;124m'\u001b[39m\u001b[38;5;124ma\u001b[39m\u001b[38;5;124m'\u001b[39m, \u001b[38;5;124m'\u001b[39m\u001b[38;5;124mb\u001b[39m\u001b[38;5;124m'\u001b[39m, \u001b[38;5;124m'\u001b[39m\u001b[38;5;124mc\u001b[39m\u001b[38;5;124m'\u001b[39m}, \u001b[38;5;241m1.5\u001b[39m]\n\u001b[1;32m----> 2\u001b[0m \u001b[38;5;28;43mset\u001b[39;49m\u001b[43m(\u001b[49m\u001b[43mexample_c\u001b[49m\u001b[43m)\u001b[49m\n",
      "\u001b[1;31mTypeError\u001b[0m: unhashable type: 'set'"
     ]
    }
   ],
   "source": [
    "example_c = [1.5, {'a', 'b', 'c'}, 1.5]\n",
    "set(example_c)\n"
   ]
  },
  {
   "cell_type": "code",
   "execution_count": null,
   "id": "48ace943-c284-459c-83c7-69f65f5c1823",
   "metadata": {},
   "outputs": [],
   "source": [
    "The preceding example throws an error because each element of a set must be hashable (≈ immutable), but {‘a’, ‘b’, ‘c’} is a set, which is a mutable (unhashable) object.\n",
    "\n",
    "The following example demonstrates the add() method, which is a mutable (unhashable) object\n"
   ]
  },
  {
   "cell_type": "code",
   "execution_count": 8,
   "id": "f8afcac7-0a96-437c-b6b3-0478d605181c",
   "metadata": {},
   "outputs": [
    {
     "data": {
      "text/plain": [
       "{'elderberries', 'father', 'hamster', 'mother'}"
      ]
     },
     "execution_count": 8,
     "metadata": {},
     "output_type": "execute_result"
    }
   ],
   "source": [
    "# add() method, which is one of the special methods available to sets but not to frozensets\n",
    "\n",
    "example_d = {'mother', 'hamster', 'father'}\n",
    "example_d.add('elderberries')\n",
    "example_d\n"
   ]
  },
  {
   "cell_type": "code",
   "execution_count": 9,
   "id": "1f495fac-9b85-4e48-8016-7682f429a814",
   "metadata": {},
   "outputs": [
    {
     "name": "stdout",
     "output_type": "stream",
     "text": [
      "Regular set: {1, 2, 3, 4, 5}\n",
      "Frozen set: frozenset({1, 2, 3, 4, 5})\n",
      "Error: 'frozenset' object has no attribute 'add'\n"
     ]
    }
   ],
   "source": [
    "# Creating a regular set\n",
    "my_set = {1, 2, 3, 4, 5}\n",
    "print(\"Regular set:\", my_set)\n",
    "\n",
    "# Creating a frozen set\n",
    "my_frozenset = frozenset(my_set)\n",
    "print(\"Frozen set:\", my_frozenset)\n",
    "\n",
    "# Attempting to add an element to the frozen set (this will raise an error)\n",
    "try:\n",
    "    my_frozenset.add(6)\n",
    "except AttributeError as e:\n",
    "    print(\"Error:\", e)"
   ]
  },
  {
   "cell_type": "raw",
   "id": "3a5d2105-216d-4588-9df8-13077706d38e",
   "metadata": {},
   "source": [
    "Frozensets are another type of set in Python. They are their own class, and they are very similar to sets, except they are immutable.\n",
    "\n",
    "This is an immutable data type.\n",
    "\n",
    "It can be applied to any iterable object and will remove duplicate elements from it.\n",
    "\n",
    "Because they’re immutable, frozensets can be used as dictionary keys and as elements in other sets.\n",
    "\n",
    "In this example, a frozenset is used within a set."
   ]
  },
  {
   "cell_type": "code",
   "execution_count": 10,
   "id": "35ca022c-2c76-4c41-aee2-fe7283f9e6e4",
   "metadata": {},
   "outputs": [
    {
     "data": {
      "text/plain": [
       "{1.5, frozenset({'a', 'b', 'c'})}"
      ]
     },
     "execution_count": 10,
     "metadata": {},
     "output_type": "execute_result"
    }
   ],
   "source": [
    "example_e = [1.5, frozenset(['a', 'b', 'c']), 1.5]\n",
    "set(example_e)"
   ]
  },
  {
   "cell_type": "code",
   "execution_count": 11,
   "id": "640c1d98-9a78-489b-ae65-3ee75829b5b9",
   "metadata": {},
   "outputs": [
    {
     "name": "stdout",
     "output_type": "stream",
     "text": [
      "{'c', 'a', 'b', 'd'}\n",
      "{'c', 'a', 'b', 'd'}\n"
     ]
    }
   ],
   "source": [
    "# union() returns a new set with elements from the set and all others\n",
    "# the operator for union is the pipe (|)\n",
    "set_1 = {'a', 'b', 'c', 'd'}\n",
    "set_2 = {'b', 'c', 'd'}\n",
    "print (set_1.union(set_2))\n",
    "print(set_1 | set_2)"
   ]
  },
  {
   "cell_type": "code",
   "execution_count": 12,
   "id": "d4863932-b99d-41cd-9028-828ce5e9d421",
   "metadata": {},
   "outputs": [
    {
     "name": "stdout",
     "output_type": "stream",
     "text": [
      "{'b', 'c'}\n",
      "{'b', 'c'}\n"
     ]
    }
   ],
   "source": [
    "# Intersection returns a new set with elements common to the sets\n",
    "\n",
    "set_1 = {'a', 'b', 'c'}\n",
    "set_2 = {'b', 'c', 'd'}\n",
    "\n",
    "print(set_1.intersection(set_2))\n",
    "print(set_1 & set_2)\n"
   ]
  },
  {
   "cell_type": "code",
   "execution_count": 14,
   "id": "ec566f7f-9aa4-4773-b740-221c78d2d9a0",
   "metadata": {},
   "outputs": [
    {
     "name": "stdout",
     "output_type": "stream",
     "text": [
      "{'a'}\n",
      "{'a'}\n"
     ]
    }
   ],
   "source": [
    "# difference() returns a new set with elements in the set that are not in the others\n",
    "\n",
    "set_1 = {'a', 'b', 'c'}\n",
    "set_2 = {'b', 'c', 'd','e'}\n",
    "\n",
    "print(set_1.difference(set_2))\n",
    "print(set_1 - set_2)"
   ]
  },
  {
   "cell_type": "code",
   "execution_count": 16,
   "id": "4b3d6061-0856-4cdb-bd5e-2819cfb00e46",
   "metadata": {},
   "outputs": [
    {
     "name": "stdout",
     "output_type": "stream",
     "text": [
      "{'a', 'd'}\n",
      "{'a', 'd'}\n"
     ]
    }
   ],
   "source": [
    "# Symmetric difference returs a new set with elements in either the set or the other, but not both\n",
    "\n",
    "set_1 = {'a', 'b', 'c'}\n",
    "set_2 = {'b', 'c', 'd'}\n",
    "\n",
    "print(set_1.symmetric_difference(set_2))\n",
    "print(set_1 ^ set_2)\n"
   ]
  },
  {
   "cell_type": "code",
   "execution_count": null,
   "id": "e199ac83-5020-4f29-a379-150ad2c640d5",
   "metadata": {},
   "outputs": [],
   "source": []
  }
 ],
 "metadata": {
  "kernelspec": {
   "display_name": "Python 3 (ipykernel)",
   "language": "python",
   "name": "python3"
  },
  "language_info": {
   "codemirror_mode": {
    "name": "ipython",
    "version": 3
   },
   "file_extension": ".py",
   "mimetype": "text/x-python",
   "name": "python",
   "nbconvert_exporter": "python",
   "pygments_lexer": "ipython3",
   "version": "3.13.1"
  }
 },
 "nbformat": 4,
 "nbformat_minor": 5
}
