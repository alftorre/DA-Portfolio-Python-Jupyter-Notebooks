{
 "cells": [
  {
   "cell_type": "code",
   "execution_count": 4,
   "id": "edf09153-ee22-4794-8515-90aeeb4a2a9a",
   "metadata": {},
   "outputs": [
    {
     "ename": "ModuleNotFoundError",
     "evalue": "No module named 'chatterbot'",
     "output_type": "error",
     "traceback": [
      "\u001b[1;31m---------------------------------------------------------------------------\u001b[0m",
      "\u001b[1;31mModuleNotFoundError\u001b[0m                       Traceback (most recent call last)",
      "Cell \u001b[1;32mIn[4], line 5\u001b[0m\n\u001b[0;32m      1\u001b[0m \u001b[38;5;66;03m#pip install chatterbot\u001b[39;00m\n\u001b[0;32m      2\u001b[0m \u001b[38;5;66;03m#pip install chatterbot_corpus\u001b[39;00m\n\u001b[0;32m      3\u001b[0m \u001b[38;5;66;03m# Now, you can create the chatbot:\u001b[39;00m\n\u001b[1;32m----> 5\u001b[0m \u001b[38;5;28;01mfrom\u001b[39;00m\u001b[38;5;250m \u001b[39m\u001b[38;5;21;01mchatterbot\u001b[39;00m\u001b[38;5;250m \u001b[39m\u001b[38;5;28;01mimport\u001b[39;00m ChatBot\n\u001b[0;32m      6\u001b[0m \u001b[38;5;28;01mfrom\u001b[39;00m\u001b[38;5;250m \u001b[39m\u001b[38;5;21;01mchatterbot\u001b[39;00m\u001b[38;5;21;01m.\u001b[39;00m\u001b[38;5;21;01mtrainers\u001b[39;00m\u001b[38;5;250m \u001b[39m\u001b[38;5;28;01mimport\u001b[39;00m ListTrainer\n\u001b[0;32m      8\u001b[0m \u001b[38;5;66;03m# Create a new chatbot instance\u001b[39;00m\n",
      "\u001b[1;31mModuleNotFoundError\u001b[0m: No module named 'chatterbot'"
     ]
    }
   ],
   "source": [
    "\n",
    "\n",
    "#pip install chatterbot\n",
    "#pip install chatterbot_corpus\n",
    "# Now, you can create the chatbot:\n",
    "\n",
    "from chatterbot import ChatBot\n",
    "from chatterbot.trainers import ListTrainer\n",
    "\n",
    "# Create a new chatbot instance\n",
    "chatbot = ChatBot('L1SupportBot')\n",
    "\n",
    "# Training data\n",
    "conversation = [\n",
    "    \"Hello\",\n",
    "    \"Hi there! How can I assist you today?\",\n",
    "    \"I'm having issues with Windows imaging on a remote workstation.\",\n",
    "    \"I can help with that. Can you describe the issue you're facing?\",\n",
    "    \"The imaging process fails with an error code.\",\n",
    "    \"Please provide the error code so I can assist you further.\",\n",
    "    \"Error code 0x80070002\",\n",
    "    \"This error usually indicates a missing file. Ensure all necessary files are available and try again.\",\n",
    "    \"The workstation is not connecting to the imaging server.\",\n",
    "    \"Check the network connection and ensure the workstation is on the same network as the imaging server.\",\n",
    "    \"The imaging process is very slow.\",\n",
    "    \"This could be due to network congestion or hardware limitations. Try imaging during off-peak hours or check the hardware specifications.\",\n",
    "    \"Thank you!\",\n",
    "    \"You're welcome! If you have any other issues, feel free to ask.\"\n",
    "]\n",
    "\n",
    "# Train the chatbot\n",
    "trainer = ListTrainer(chatbot)\n",
    "trainer.train(conversation)\n",
    "\n",
    "# Function to get a response from the chatbot\n",
    "def get_response(user_input):\n",
    "    response = chatbot.get_response(user_input)\n",
    "    return response\n",
    "\n",
    "# Example interaction\n",
    "user_input = \"The workstation is not connecting to the imaging server.\"\n",
    "print(get_response(user_input))"
   ]
  },
  {
   "cell_type": "code",
   "execution_count": null,
   "id": "4cf845e4-14b8-455e-86ec-bb6b78dc5f74",
   "metadata": {},
   "outputs": [],
   "source": []
  }
 ],
 "metadata": {
  "kernelspec": {
   "display_name": "Python 3 (ipykernel)",
   "language": "python",
   "name": "python3"
  },
  "language_info": {
   "codemirror_mode": {
    "name": "ipython",
    "version": 3
   },
   "file_extension": ".py",
   "mimetype": "text/x-python",
   "name": "python",
   "nbconvert_exporter": "python",
   "pygments_lexer": "ipython3",
   "version": "3.13.1"
  }
 },
 "nbformat": 4,
 "nbformat_minor": 5
}
