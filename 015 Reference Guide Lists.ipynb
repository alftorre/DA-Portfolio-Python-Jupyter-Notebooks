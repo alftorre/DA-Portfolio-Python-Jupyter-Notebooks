{
 "cells": [
  {
   "cell_type": "code",
   "execution_count": 1,
   "id": "0c5a4a60-3d45-4120-a689-e8e75ddd1c67",
   "metadata": {},
   "outputs": [
    {
     "name": "stdout",
     "output_type": "stream",
     "text": [
      "['olive', 'palm', 'coconut']\n"
     ]
    }
   ],
   "source": [
    "list_a =['olive', 'palm', 'coconut']\n",
    "print(list_a)\n"
   ]
  },
  {
   "cell_type": "code",
   "execution_count": 2,
   "id": "f3e4780e-8927-49da-b0d6-0609fcd6b78b",
   "metadata": {},
   "outputs": [
    {
     "name": "stdout",
     "output_type": "stream",
     "text": [
      "[8, 6, 7, 5, 6, 4, 8]\n"
     ]
    }
   ],
   "source": [
    "list_b = [8,6,7,5,6,4,8]\n",
    "print(list_b)"
   ]
  },
  {
   "cell_type": "code",
   "execution_count": 3,
   "id": "c1d89a34-df4d-44f9-99f5-75e757b932e6",
   "metadata": {},
   "outputs": [
    {
     "name": "stdout",
     "output_type": "stream",
     "text": [
      "['Abidjan', 14.2, [1, 2, None], 'Zagreb']\n"
     ]
    }
   ],
   "source": [
    "#List of mixed data types\n",
    "list_c = ['Abidjan', 14.2, [1,2,None], 'Zagreb']\n",
    "print(list_c)\n"
   ]
  },
  {
   "cell_type": "raw",
   "id": "7f2dcd0f-8ea3-4bf4-8137-1e0e8b7e8a0d",
   "metadata": {},
   "source": [
    "To create an empty list, use empty brackets or the list() function:"
   ]
  },
  {
   "cell_type": "code",
   "execution_count": 4,
   "id": "c9ac0e4d-890a-4a61-9a38-b246415c63c8",
   "metadata": {},
   "outputs": [],
   "source": [
    "empty_list_1 = []\n",
    "empty_list_2 = list()"
   ]
  },
  {
   "cell_type": "raw",
   "id": "a8d2c06e-b930-4c25-a7ec-35a57520d156",
   "metadata": {},
   "source": [
    "Just as with srings, you can access elements in a list using indexing and slicing. The first element of a list has index zero, the second element has index one, and so on. Use square brackets to index:"
   ]
  },
  {
   "cell_type": "code",
   "execution_count": 5,
   "id": "9b085c69-985a-4fc5-9fa2-085568e58d04",
   "metadata": {},
   "outputs": [
    {
     "name": "stdout",
     "output_type": "stream",
     "text": [
      "inclinant\n"
     ]
    }
   ],
   "source": [
    "phrase = ['Astra', 'inclinant', 'sed', 'non', 'obligant']\n",
    "print(phrase[1])\n"
   ]
  },
  {
   "cell_type": "code",
   "execution_count": 6,
   "id": "fa44cbbe-e6d4-45b5-a981-e029bad7d050",
   "metadata": {},
   "outputs": [
    {
     "name": "stdout",
     "output_type": "stream",
     "text": [
      "obligant\n"
     ]
    }
   ],
   "source": [
    "print(phrase[-1])"
   ]
  },
  {
   "cell_type": "code",
   "execution_count": 7,
   "id": "bb3db380-cef5-427d-97d4-22264a1bc741",
   "metadata": {},
   "outputs": [
    {
     "name": "stdout",
     "output_type": "stream",
     "text": [
      "['inclinant', 'sed', 'non']\n"
     ]
    }
   ],
   "source": [
    "print(phrase[1:4])"
   ]
  },
  {
   "cell_type": "code",
   "execution_count": 8,
   "id": "ba08d906-3695-4f6a-b2c6-e4dc7f5014d4",
   "metadata": {},
   "outputs": [
    {
     "name": "stdout",
     "output_type": "stream",
     "text": [
      "['Astra', 'inclinant', 'sed']\n",
      "['non', 'obligant']\n"
     ]
    }
   ],
   "source": [
    "print(phrase[:3])\n",
    "print(phrase[3:])\n",
    "\n"
   ]
  },
  {
   "cell_type": "code",
   "execution_count": 9,
   "id": "2d6d3bbd-3dc5-4fff-b794-edd14e377c4b",
   "metadata": {},
   "outputs": [
    {
     "name": "stdout",
     "output_type": "stream",
     "text": [
      "['Macduff', 'Malcolm', 'Macbeth', 'Banquo']\n"
     ]
    }
   ],
   "source": [
    "# Zero base indexing for lists\n",
    "my_list = ['Macduff', 'Malcolm', 'Duncan', 'Banquo']\n",
    "my_list[2] = 'Macbeth'\n",
    "print(my_list)"
   ]
  },
  {
   "cell_type": "code",
   "execution_count": 13,
   "id": "e9352575-6c3b-4b74-976e-572db3b9b6f4",
   "metadata": {},
   "outputs": [
    {
     "name": "stdout",
     "output_type": "stream",
     "text": [
      "['Macduff', 1, 2, 3, 4, 'Macbeth', 'Banquo']\n"
     ]
    }
   ],
   "source": [
    "# Replacing a slice from a list \n",
    "my_list = ['Macduff', 'Malcolm', 'Macbeth', 'Banquo']\n",
    "my_list[1:2] = [1, 2, 3, 4]\n",
    "print(my_list)"
   ]
  },
  {
   "cell_type": "code",
   "execution_count": 14,
   "id": "1d4f2c01-5bd6-4c9d-99fe-b3ebcc711576",
   "metadata": {},
   "outputs": [
    {
     "data": {
      "text/plain": [
       "[1, 2, 3, 'a', 'b', 'c']"
      ]
     },
     "execution_count": 14,
     "metadata": {},
     "output_type": "execute_result"
    }
   ],
   "source": [
    "# You can add lists with the plus operator\n",
    "num_list = [1, 2, 3]\n",
    "char_list = ['a', 'b', 'c']\n",
    "num_list + char_list"
   ]
  },
  {
   "cell_type": "code",
   "execution_count": 15,
   "id": "c705269a-a7c1-4509-a043-18eb641bbb38",
   "metadata": {},
   "outputs": [
    {
     "data": {
      "text/plain": [
       "['a', 'b', 'c', 'a', 'b', 'c']"
      ]
     },
     "execution_count": 15,
     "metadata": {},
     "output_type": "execute_result"
    }
   ],
   "source": [
    "# Lists can also by multiplied!\n",
    "list_a = ['a', 'b', 'c']\n",
    "list_a * 2\n"
   ]
  },
  {
   "cell_type": "raw",
   "id": "4ce0492c-dfcf-4ccc-9f21-84d83d354684",
   "metadata": {},
   "source": [
    "You can check whether a value is contained in a list by using the in operator\n"
   ]
  },
  {
   "cell_type": "code",
   "execution_count": null,
   "id": "21c28f87-9e73-449b-9182-9183588aefed",
   "metadata": {},
   "outputs": [],
   "source": []
  },
  {
   "cell_type": "code",
   "execution_count": 18,
   "id": "3e5d22a3-1b01-4b56-ae5f-3fc749af36ef",
   "metadata": {},
   "outputs": [
    {
     "name": "stdout",
     "output_type": "stream",
     "text": [
      "False\n",
      "True\n"
     ]
    }
   ],
   "source": [
    "num_list = [2,4,6]\n",
    "print(5 in num_list)\n",
    "print (5 not in num_list)"
   ]
  },
  {
   "cell_type": "raw",
   "id": "1eb58e7e-48f4-4557-8a30-b56e77cfc9c9",
   "metadata": {},
   "source": [
    "List Methods Append"
   ]
  },
  {
   "cell_type": "code",
   "execution_count": 21,
   "id": "1aa4066a-81b7-40f3-b920-8f1aad94de02",
   "metadata": {},
   "outputs": [
    {
     "name": "stdout",
     "output_type": "stream",
     "text": [
      "[0, 1, 2, 3, 5]\n"
     ]
    }
   ],
   "source": [
    "my_list = [0,1,2,3]\n",
    "variable = 5\n",
    "my_list.append(variable)\n",
    "print(my_list)"
   ]
  },
  {
   "cell_type": "raw",
   "id": "f65f2841-79ef-486a-9d5a-6d55b968a455",
   "metadata": {},
   "source": [
    "insert an elemnt at a give position\n"
   ]
  },
  {
   "cell_type": "code",
   "execution_count": 24,
   "id": "d7e8536c-bd29-4d1a-8dd3-6c46d56b729a",
   "metadata": {},
   "outputs": [
    {
     "name": "stdout",
     "output_type": "stream",
     "text": [
      "['a', 'b', 'c', 'd']\n"
     ]
    }
   ],
   "source": [
    "my_list = ['a', 'b', 'd']\n",
    "my_list.insert(2,'c')\n",
    "print(my_list)"
   ]
  },
  {
   "cell_type": "code",
   "execution_count": null,
   "id": "4184a26c-e778-44df-bc6a-34d622e05839",
   "metadata": {
    "scrolled": true
   },
   "outputs": [],
   "source": [
    "# remove() removes the first occurence of an item\n",
    "\n",
    "my_list = ['a','a','b']"
   ]
  },
  {
   "cell_type": "code",
   "execution_count": null,
   "id": "a4c8a391-017f-486d-adf9-4bb428ea5b89",
   "metadata": {
    "scrolled": true
   },
   "outputs": [],
   "source": [
    "# remove() removes the first occurence of an item\n",
    "\n",
    "my_list = ['a','a','b']"
   ]
  }
 ],
 "metadata": {
  "kernelspec": {
   "display_name": "Python 3 (ipykernel)",
   "language": "python",
   "name": "python3"
  },
  "language_info": {
   "codemirror_mode": {
    "name": "ipython",
    "version": 3
   },
   "file_extension": ".py",
   "mimetype": "text/x-python",
   "name": "python",
   "nbconvert_exporter": "python",
   "pygments_lexer": "ipython3",
   "version": "3.13.1"
  }
 },
 "nbformat": 4,
 "nbformat_minor": 5
}
