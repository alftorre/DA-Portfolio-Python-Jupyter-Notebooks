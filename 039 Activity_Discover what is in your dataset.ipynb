{
 "cells": [
  {
   "attachments": {
    "d793959a-05b7-4f7c-a55c-32fe33b9059b.png": {
     "image/png": "[encoded data removed]"
    }
   },
   "cell_type": "markdown",
   "id": "8acd9688",
   "metadata": {
    "id": "1WD1hC5MTRMS"
   },
   "source": [
    "![DA_Header.png](attachment:d793959a-05b7-4f7c-a55c-32fe33b9059b.png)# Activity: Discover what is in your dataset"
   ]
  },
  {
   "cell_type": "markdown",
   "id": "ad6786b2",
   "metadata": {
    "id": "ee31943b-274e-4c28-bce6-155cb6f4c334"
   },
   "source": [
    "## Introduction\n",
    "\n",
    "In this activity, you will discover characteristics of a dataset and use visualizations to analyze the data. This will develop and strengthen your skills in **exploratory data analysis (EDA)** and your knowledge of functions that allow you to explore and visualize data. \n",
    "\n",
    "EDA is an essential process in a data science workflow. As a data professional, you will need to conduct this process to better understand the data at hand and determine how it can be used to solve the problem you want to address. This activity will give you an opportunity to practice that process and prepare you for EDA in future projects.\n",
    "\n",
    "In this activity, you are a member of an analytics team that provides insights to an investing firm. To help them decide which companies to invest in next, the firm wants insights into **unicorn companies**–companies that are valued at over one billion dollars. The data you will use for this task provides information on over 1,000 unicorn companies, including their industry, country, year founded, and select investors. You will use this information to gain insights into how and when companies reach this prestigious milestone and to make recommendations for next steps to the investing firm."
   ]
  },
  {
   "cell_type": "markdown",
   "id": "280ea39e",
   "metadata": {
    "id": "4bb9630e-b940-4835-a389-d39def1fa848"
   },
   "source": [
    "## Step 1: Imports"
   ]
  },
  {
   "cell_type": "markdown",
   "id": "90cd5b57",
   "metadata": {
    "id": "bc180686-4ae2-47ea-a292-3588ac60a820"
   },
   "source": [
    "### Import libraries and packages \n",
    "\n",
    "First, import relevant Python libraries and modules. Use the `pandas` library and the `matplotlib.pyplot` module."
   ]
  },
  {
   "cell_type": "code",
   "execution_count": 1,
   "id": "bd2535ba",
   "metadata": {
    "id": "8e7f1f2c-bbcc-4f3c-b927-b090ee8334c4"
   },
   "outputs": [],
   "source": [
    "# Import libraries and packages\n",
    "\n",
    "import pandas as pd\n",
    "import numpy as np\n",
    "import matplotlib.pyplot as plt"
   ]
  },
  {
   "cell_type": "markdown",
   "id": "6a5f2272",
   "metadata": {
    "id": "7d29c6bd-f194-46bb-b794-56dc20130473"
   },
   "source": [
    "### Load the dataset into a DataFrame\n",
    "\n",
    "The dataset provided is in the form of a csv file named `Unicorn_Companies.csv` and contains a subset of data on unicorn companies. As shown in this cell, the dataset has been automatically loaded in for you. You do not need to download the .csv file, or provide more code, in order to access the dataset and proceed with this lab. Please continue with this activity by completing the following instructions."
   ]
  },
  {
   "cell_type": "code",
   "execution_count": 3,
   "id": "632433af",
   "metadata": {
    "id": "3bd40d44-080f-4e49-b0c2-160dedc3c4df"
   },
   "outputs": [],
   "source": [
    "# RUN THIS CELL TO IMPORT YOUR DATA.\n",
    "\n",
    "### YOUR CODE HERE ###\n",
    "companies = pd.read_csv(r\"C:\\Users\\DAD\\Jupyter Lab Notebooks\\csv_files\\/Unicorn_Companies.csv\")"
   ]
  },
  {
   "cell_type": "markdown",
   "id": "7058a0d5",
   "metadata": {
    "id": "lXPOJ3LO-v7J",
    "jp-MarkdownHeadingCollapsed": true,
    "tags": []
   },
   "source": [
    "<details>\n",
    "  <summary><h4><strong>Hint 1</strong></h4></summary>\n",
    "\n",
    "Refer to what you learned about [loading data](https://www.coursera.org/learn/go-beyond-the-numbers-translate-data-into-insight/supplement/MdTG2/reference-guide-import-datasets-using-python) in Python.\n",
    "\n",
    "</details>"
   ]
  },
  {
   "cell_type": "markdown",
   "id": "51cd0404",
   "metadata": {
    "id": "O5TEL8Ty-v7L",
    "jp-MarkdownHeadingCollapsed": true,
    "tags": []
   },
   "source": [
    "<details>\n",
    "  <summary><h4><strong>Hint 2</strong></h4></summary>\n",
    "\n",
    "Use the function in the `pandas` library that allows you to read data from a csv file and load the data into a DataFrame.\n",
    " \n",
    "\n",
    "</details>"
   ]
  },
  {
   "cell_type": "markdown",
   "id": "03393bad",
   "metadata": {
    "id": "kEx2SsH2-v7M",
    "jp-MarkdownHeadingCollapsed": true,
    "tags": []
   },
   "source": [
    "<details>\n",
    "  <summary><h4><strong>Hint 3</strong></h4></summary>\n",
    "\n",
    "Use the `read_csv()` function from the `pandas` library. \n",
    "\n",
    "</details>"
   ]
  },
  {
   "cell_type": "markdown",
   "id": "03ad8edb",
   "metadata": {
    "id": "95bf39c9-d05c-4324-a40b-bc692607b61b"
   },
   "source": [
    "## Step 2: Data exploration"
   ]
  },
  {
   "cell_type": "markdown",
   "id": "6f277ede",
   "metadata": {
    "id": "26561614-8e9b-4840-8dbf-b50131ae5314",
    "tags": []
   },
   "source": [
    "### Display the first 10 rows of the data\n",
    "\n",
    "Next, explore the dataset and answer questions to guide your exploration and analysis of the data. To begin, display the first 10 rows of the data to get an understanding of how the dataset is structured."
   ]
  },
  {
   "cell_type": "code",
   "execution_count": 4,
   "id": "170d3c4f",
   "metadata": {
    "id": "ad5210a5-7a64-4991-b004-de818cfaf506"
   },
   "outputs": [
    {
     "data": {
      "text/html": [
       "<div>\n",
       "<style scoped>\n",
       "    .dataframe tbody tr th:only-of-type {\n",
       "        vertical-align: middle;\n",
       "    }\n",
       "\n",
       "    .dataframe tbody tr th {\n",
       "        vertical-align: top;\n",
       "    }\n",
       "\n",
       "    .dataframe thead th {\n",
       "        text-align: right;\n",
       "    }\n",
       "</style>\n",
       "<table border=\"1\" class=\"dataframe\">\n",
       "  <thead>\n",
       "    <tr style=\"text-align: right;\">\n",
       "      <th></th>\n",
       "      <th>Company</th>\n",
       "      <th>Valuation</th>\n",
       "      <th>Date Joined</th>\n",
       "      <th>Industry</th>\n",
       "      <th>City</th>\n",
       "      <th>Country/Region</th>\n",
       "      <th>Continent</th>\n",
       "      <th>Year Founded</th>\n",
       "      <th>Funding</th>\n",
       "      <th>Select Investors</th>\n",
       "    </tr>\n",
       "  </thead>\n",
       "  <tbody>\n",
       "    <tr>\n",
       "      <th>0</th>\n",
       "      <td>Bytedance</td>\n",
       "      <td>$180B</td>\n",
       "      <td>4/7/17</td>\n",
       "      <td>Artificial intelligence</td>\n",
       "      <td>Beijing</td>\n",
       "      <td>China</td>\n",
       "      <td>Asia</td>\n",
       "      <td>2012</td>\n",
       "      <td>$8B</td>\n",
       "      <td>Sequoia Capital China, SIG Asia Investments, S...</td>\n",
       "    </tr>\n",
       "    <tr>\n",
       "      <th>1</th>\n",
       "      <td>SpaceX</td>\n",
       "      <td>$100B</td>\n",
       "      <td>12/1/12</td>\n",
       "      <td>Other</td>\n",
       "      <td>Hawthorne</td>\n",
       "      <td>United States</td>\n",
       "      <td>North America</td>\n",
       "      <td>2002</td>\n",
       "      <td>$7B</td>\n",
       "      <td>Founders Fund, Draper Fisher Jurvetson, Rothen...</td>\n",
       "    </tr>\n",
       "    <tr>\n",
       "      <th>2</th>\n",
       "      <td>SHEIN</td>\n",
       "      <td>$100B</td>\n",
       "      <td>7/3/18</td>\n",
       "      <td>E-commerce &amp; direct-to-consumer</td>\n",
       "      <td>Shenzhen</td>\n",
       "      <td>China</td>\n",
       "      <td>Asia</td>\n",
       "      <td>2008</td>\n",
       "      <td>$2B</td>\n",
       "      <td>Tiger Global Management, Sequoia Capital China...</td>\n",
       "    </tr>\n",
       "    <tr>\n",
       "      <th>3</th>\n",
       "      <td>Stripe</td>\n",
       "      <td>$95B</td>\n",
       "      <td>1/23/14</td>\n",
       "      <td>Fintech</td>\n",
       "      <td>San Francisco</td>\n",
       "      <td>United States</td>\n",
       "      <td>North America</td>\n",
       "      <td>2010</td>\n",
       "      <td>$2B</td>\n",
       "      <td>Khosla Ventures, LowercaseCapital, capitalG</td>\n",
       "    </tr>\n",
       "    <tr>\n",
       "      <th>4</th>\n",
       "      <td>Klarna</td>\n",
       "      <td>$46B</td>\n",
       "      <td>12/12/11</td>\n",
       "      <td>Fintech</td>\n",
       "      <td>Stockholm</td>\n",
       "      <td>Sweden</td>\n",
       "      <td>Europe</td>\n",
       "      <td>2005</td>\n",
       "      <td>$4B</td>\n",
       "      <td>Institutional Venture Partners, Sequoia Capita...</td>\n",
       "    </tr>\n",
       "    <tr>\n",
       "      <th>5</th>\n",
       "      <td>Canva</td>\n",
       "      <td>$40B</td>\n",
       "      <td>1/8/18</td>\n",
       "      <td>Internet software &amp; services</td>\n",
       "      <td>Surry Hills</td>\n",
       "      <td>Australia</td>\n",
       "      <td>Oceania</td>\n",
       "      <td>2012</td>\n",
       "      <td>$572M</td>\n",
       "      <td>Sequoia Capital China, Blackbird Ventures, Mat...</td>\n",
       "    </tr>\n",
       "    <tr>\n",
       "      <th>6</th>\n",
       "      <td>Checkout.com</td>\n",
       "      <td>$40B</td>\n",
       "      <td>5/2/19</td>\n",
       "      <td>Fintech</td>\n",
       "      <td>London</td>\n",
       "      <td>United Kingdom</td>\n",
       "      <td>Europe</td>\n",
       "      <td>2012</td>\n",
       "      <td>$2B</td>\n",
       "      <td>Tiger Global Management, Insight Partners, DST...</td>\n",
       "    </tr>\n",
       "    <tr>\n",
       "      <th>7</th>\n",
       "      <td>Instacart</td>\n",
       "      <td>$39B</td>\n",
       "      <td>12/30/14</td>\n",
       "      <td>Supply chain, logistics, &amp; delivery</td>\n",
       "      <td>San Francisco</td>\n",
       "      <td>United States</td>\n",
       "      <td>North America</td>\n",
       "      <td>2012</td>\n",
       "      <td>$3B</td>\n",
       "      <td>Khosla Ventures, Kleiner Perkins Caufield &amp; By...</td>\n",
       "    </tr>\n",
       "    <tr>\n",
       "      <th>8</th>\n",
       "      <td>JUUL Labs</td>\n",
       "      <td>$38B</td>\n",
       "      <td>12/20/17</td>\n",
       "      <td>Consumer &amp; retail</td>\n",
       "      <td>San Francisco</td>\n",
       "      <td>United States</td>\n",
       "      <td>North America</td>\n",
       "      <td>2015</td>\n",
       "      <td>$14B</td>\n",
       "      <td>Tiger Global Management</td>\n",
       "    </tr>\n",
       "    <tr>\n",
       "      <th>9</th>\n",
       "      <td>Databricks</td>\n",
       "      <td>$38B</td>\n",
       "      <td>2/5/19</td>\n",
       "      <td>Data management &amp; analytics</td>\n",
       "      <td>San Francisco</td>\n",
       "      <td>United States</td>\n",
       "      <td>North America</td>\n",
       "      <td>2013</td>\n",
       "      <td>$3B</td>\n",
       "      <td>Andreessen Horowitz, New Enterprise Associates...</td>\n",
       "    </tr>\n",
       "  </tbody>\n",
       "</table>\n",
       "</div>"
      ],
      "text/plain": [
       "        Company Valuation Date Joined                             Industry  \\\n",
       "0     Bytedance     $180B      4/7/17              Artificial intelligence   \n",
       "1        SpaceX     $100B     12/1/12                                Other   \n",
       "2         SHEIN     $100B      7/3/18      E-commerce & direct-to-consumer   \n",
       "3        Stripe      $95B     1/23/14                              Fintech   \n",
       "4        Klarna      $46B    12/12/11                              Fintech   \n",
       "5         Canva      $40B      1/8/18         Internet software & services   \n",
       "6  Checkout.com      $40B      5/2/19                              Fintech   \n",
       "7     Instacart      $39B    12/30/14  Supply chain, logistics, & delivery   \n",
       "8     JUUL Labs      $38B    12/20/17                    Consumer & retail   \n",
       "9    Databricks      $38B      2/5/19          Data management & analytics   \n",
       "\n",
       "            City  Country/Region      Continent  Year Founded Funding  \\\n",
       "0        Beijing           China           Asia          2012     $8B   \n",
       "1      Hawthorne   United States  North America          2002     $7B   \n",
       "2       Shenzhen           China           Asia          2008     $2B   \n",
       "3  San Francisco   United States  North America          2010     $2B   \n",
       "4      Stockholm          Sweden         Europe          2005     $4B   \n",
       "5    Surry Hills       Australia        Oceania          2012   $572M   \n",
       "6         London  United Kingdom         Europe          2012     $2B   \n",
       "7  San Francisco   United States  North America          2012     $3B   \n",
       "8  San Francisco   United States  North America          2015    $14B   \n",
       "9  San Francisco   United States  North America          2013     $3B   \n",
       "\n",
       "                                    Select Investors  \n",
       "0  Sequoia Capital China, SIG Asia Investments, S...  \n",
       "1  Founders Fund, Draper Fisher Jurvetson, Rothen...  \n",
       "2  Tiger Global Management, Sequoia Capital China...  \n",
       "3        Khosla Ventures, LowercaseCapital, capitalG  \n",
       "4  Institutional Venture Partners, Sequoia Capita...  \n",
       "5  Sequoia Capital China, Blackbird Ventures, Mat...  \n",
       "6  Tiger Global Management, Insight Partners, DST...  \n",
       "7  Khosla Ventures, Kleiner Perkins Caufield & By...  \n",
       "8                            Tiger Global Management  \n",
       "9  Andreessen Horowitz, New Enterprise Associates...  "
      ]
     },
     "execution_count": 4,
     "metadata": {},
     "output_type": "execute_result"
    }
   ],
   "source": [
    "# Display the first 10 rows of the data\n",
    "\n",
    "companies.head(10)"
   ]
  },
  {
   "cell_type": "markdown",
   "id": "465a78e0",
   "metadata": {
    "id": "49881dfd-4532-424f-9729-f5378d984df0",
    "jp-MarkdownHeadingCollapsed": true,
    "tags": []
   },
   "source": [
    "<details>\n",
    "  <summary><h4><strong>Hint 1</strong></h4></summary>\n",
    "\n",
    "Refer to [the content about exploratory data analysis in Python](https://www.coursera.org/learn/go-beyond-the-numbers-translate-data-into-insight/lecture/kfl9b/find-stories-using-the-six-exploratory-data-analysis-practices).\n",
    "\n",
    "</details>"
   ]
  },
  {
   "cell_type": "markdown",
   "id": "7b19fcdd",
   "metadata": {
    "id": "k2QxFOi9HW1Q",
    "jp-MarkdownHeadingCollapsed": true,
    "tags": []
   },
   "source": [
    "<details>\n",
    "  <summary><h4><strong>Hint 2</strong></h4></summary>\n",
    "\n",
    "Use the function in the `pandas` library that allows you to get a specific number of rows from the top of a DataFrame.\n",
    " \n",
    "\n",
    "</details>"
   ]
  },
  {
   "cell_type": "markdown",
   "id": "d23bf81b",
   "metadata": {
    "id": "ptkclWFzHjHv",
    "jp-MarkdownHeadingCollapsed": true,
    "tags": []
   },
   "source": [
    "<details>\n",
    "  <summary><h4><strong>Hint 3</strong></h4></summary>\n",
    "\n",
    "Use the `head()` function from the `pandas` library. \n",
    "\n",
    "</details>"
   ]
  },
  {
   "cell_type": "markdown",
   "id": "54556e23",
   "metadata": {
    "id": "fb45ed17-5e22-4d48-9750-130a8586bbf9",
    "tags": []
   },
   "source": [
    "**Question:** What do you think the \"Date Joined\" column represents?"
   ]
  },
  {
   "cell_type": "markdown",
   "id": "bcf953ce",
   "metadata": {},
   "source": [
    "It represents the date when the company reached the \"Unicorn\" status, based on it's valuation"
   ]
  },
  {
   "cell_type": "raw",
   "id": "c1092d42",
   "metadata": {
    "id": "EvIbtmjalQHF"
   },
   "source": [
    " "
   ]
  },
  {
   "cell_type": "markdown",
   "id": "f2510816",
   "metadata": {
    "id": "46e7fce4-b8dc-4f53-9f5f-a7d7fdfe0831",
    "tags": []
   },
   "source": [
    "**Question:** What do you think the \"Select Investors\" column represents?"
   ]
  },
  {
   "cell_type": "markdown",
   "id": "3a5a6d44",
   "metadata": {
    "id": "1sdw8O-PlQ19"
   },
   "source": [
    "The list of top investors"
   ]
  },
  {
   "cell_type": "markdown",
   "id": "5c0bfa98",
   "metadata": {
    "id": "6d423621-c14b-4987-a76d-feee76046144"
   },
   "source": [
    "### Assess the size of the dataset\n",
    "\n",
    "Get a sense of how large the dataset is. The `size` property that DataFrames have can help."
   ]
  },
  {
   "cell_type": "code",
   "execution_count": 5,
   "id": "9bc59dbd",
   "metadata": {
    "id": "1856c3c8-dd7e-4b0f-8e30-06e8ed6b9885"
   },
   "outputs": [
    {
     "name": "stdout",
     "output_type": "stream",
     "text": [
      "<class 'pandas.core.frame.DataFrame'>\n",
      "RangeIndex: 1074 entries, 0 to 1073\n",
      "Data columns (total 10 columns):\n",
      " #   Column            Non-Null Count  Dtype \n",
      "---  ------            --------------  ----- \n",
      " 0   Company           1074 non-null   object\n",
      " 1   Valuation         1074 non-null   object\n",
      " 2   Date Joined       1074 non-null   object\n",
      " 3   Industry          1074 non-null   object\n",
      " 4   City              1058 non-null   object\n",
      " 5   Country/Region    1074 non-null   object\n",
      " 6   Continent         1074 non-null   object\n",
      " 7   Year Founded      1074 non-null   int64 \n",
      " 8   Funding           1074 non-null   object\n",
      " 9   Select Investors  1073 non-null   object\n",
      "dtypes: int64(1), object(9)\n",
      "memory usage: 84.0+ KB\n"
     ]
    }
   ],
   "source": [
    "# How large the dataset is\n",
    "\n",
    "companies.info()"
   ]
  },
  {
   "cell_type": "markdown",
   "id": "3582d42a",
   "metadata": {
    "id": "a1188994-353a-466e-884c-e7b770fa03ac",
    "jp-MarkdownHeadingCollapsed": true,
    "tags": []
   },
   "source": [
    "**Question:** What do you notice about the size of the dataset?"
   ]
  },
  {
   "cell_type": "markdown",
   "id": "96ef5750",
   "metadata": {
    "id": "gLRHG7k6lPC2"
   },
   "source": [
    "We can see a total of 1074 entries with 10 Data columns"
   ]
  },
  {
   "cell_type": "markdown",
   "id": "34b13d7e",
   "metadata": {
    "id": "e31095a6-5526-42d3-b1c0-b77c1f8b3852"
   },
   "source": [
    "### Determine the shape of the dataset\n",
    "\n",
    "Identify the number of rows and columns in the dataset. The `shape` property that DataFrames have can help."
   ]
  },
  {
   "cell_type": "code",
   "execution_count": 6,
   "id": "d3aa6b25",
   "metadata": {
    "id": "df3c71a1-2519-4c50-86c2-63902a534d27"
   },
   "outputs": [
    {
     "data": {
      "text/plain": [
       "(1074, 10)"
      ]
     },
     "execution_count": 6,
     "metadata": {},
     "output_type": "execute_result"
    }
   ],
   "source": [
    "# Shape of the dataset\n",
    "\n",
    "companies.shape"
   ]
  },
  {
   "cell_type": "markdown",
   "id": "366f3b47",
   "metadata": {
    "id": "4c2998a8-f864-43eb-a2d5-64845ebc805c"
   },
   "source": [
    "**Question:** What do you notice about the shape of the dataset?"
   ]
  },
  {
   "cell_type": "markdown",
   "id": "20fc5bed",
   "metadata": {
    "id": "2D8Ix19xlOHv"
   },
   "source": [
    "1074 rows with 10 columns, relevant information about the company"
   ]
  },
  {
   "cell_type": "markdown",
   "id": "c50af0bf",
   "metadata": {
    "id": "b9c8ecb7-c202-4d0a-92ad-b6b6737bc167"
   },
   "source": [
    "### Get basic information about the dataset\n",
    "\n",
    "To further understand what the dataset entails, get basic information about the dataset, including the data type of values in each column. There is more than one way to approach this task. In this instance, use the `info()` function from `pandas`."
   ]
  },
  {
   "cell_type": "code",
   "execution_count": 7,
   "id": "3e3c6222",
   "metadata": {
    "id": "eedad8b8-ca45-430e-91d2-eff3ad66adaf"
   },
   "outputs": [
    {
     "name": "stdout",
     "output_type": "stream",
     "text": [
      "<class 'pandas.core.frame.DataFrame'>\n",
      "RangeIndex: 1074 entries, 0 to 1073\n",
      "Data columns (total 10 columns):\n",
      " #   Column            Non-Null Count  Dtype \n",
      "---  ------            --------------  ----- \n",
      " 0   Company           1074 non-null   object\n",
      " 1   Valuation         1074 non-null   object\n",
      " 2   Date Joined       1074 non-null   object\n",
      " 3   Industry          1074 non-null   object\n",
      " 4   City              1058 non-null   object\n",
      " 5   Country/Region    1074 non-null   object\n",
      " 6   Continent         1074 non-null   object\n",
      " 7   Year Founded      1074 non-null   int64 \n",
      " 8   Funding           1074 non-null   object\n",
      " 9   Select Investors  1073 non-null   object\n",
      "dtypes: int64(1), object(9)\n",
      "memory usage: 84.0+ KB\n"
     ]
    }
   ],
   "source": [
    "# Get information\n",
    "\n",
    "companies.info()"
   ]
  },
  {
   "cell_type": "markdown",
   "id": "5b976deb",
   "metadata": {
    "id": "bd6573bc-2adb-410e-a85c-d6d5886d51bf"
   },
   "source": [
    "**Question:** What do you notice about the type of data in the `Year Founded` column? Refer to the output from using `info()` above. Knowing the data type of this variable is helpful because it indicates what types of analysis can be done with that variable, how it can be aggregated with other variables, and so on."
   ]
  },
  {
   "cell_type": "markdown",
   "id": "151c90c8",
   "metadata": {
    "id": "z_zKTLpXlF3D"
   },
   "source": [
    "The Year founded column is of int64 type. "
   ]
  },
  {
   "cell_type": "markdown",
   "id": "4585ef74",
   "metadata": {
    "id": "e6da795c-331b-4271-9825-103112cb08da"
   },
   "source": [
    "**Question:** What do you notice about the type of data in the `Date Joined` column? Refer to the output from using `info()` above. Knowing the data type of this variable is helpful because it indicates what types of analysis can be done with that variable and how the variable can be transformed to suit specific tasks."
   ]
  },
  {
   "cell_type": "markdown",
   "id": "e3912fd1",
   "metadata": {
    "id": "oS1P_JQNlMFQ"
   },
   "source": [
    "The Date Joined founded column is of Object type, It is a string. We will need to convert it to the proper format for analysis"
   ]
  },
  {
   "cell_type": "markdown",
   "id": "6c9a78e1",
   "metadata": {
    "id": "XFkjw_Ke2Cjn"
   },
   "source": [
    "## Step 3: Statistical tests"
   ]
  },
  {
   "cell_type": "markdown",
   "id": "18ce549b",
   "metadata": {
    "id": "7dac147e-19e1-49e7-bd80-e122390c3a70",
    "tags": []
   },
   "source": [
    "### Find descriptive statistics\n",
    "\n",
    "Find descriptive statistics and structure your dataset. The `describe()` function from the `pandas` library can help. This function generates statistics for the numeric columns in a dataset. "
   ]
  },
  {
   "cell_type": "code",
   "execution_count": 8,
   "id": "46c17874",
   "metadata": {
    "id": "13f1c1dd-5637-4726-8fa0-2fbd838e4afa"
   },
   "outputs": [
    {
     "data": {
      "text/html": [
       "<div>\n",
       "<style scoped>\n",
       "    .dataframe tbody tr th:only-of-type {\n",
       "        vertical-align: middle;\n",
       "    }\n",
       "\n",
       "    .dataframe tbody tr th {\n",
       "        vertical-align: top;\n",
       "    }\n",
       "\n",
       "    .dataframe thead th {\n",
       "        text-align: right;\n",
       "    }\n",
       "</style>\n",
       "<table border=\"1\" class=\"dataframe\">\n",
       "  <thead>\n",
       "    <tr style=\"text-align: right;\">\n",
       "      <th></th>\n",
       "      <th>Year Founded</th>\n",
       "    </tr>\n",
       "  </thead>\n",
       "  <tbody>\n",
       "    <tr>\n",
       "      <th>count</th>\n",
       "      <td>1074.000000</td>\n",
       "    </tr>\n",
       "    <tr>\n",
       "      <th>mean</th>\n",
       "      <td>2012.895717</td>\n",
       "    </tr>\n",
       "    <tr>\n",
       "      <th>std</th>\n",
       "      <td>5.698573</td>\n",
       "    </tr>\n",
       "    <tr>\n",
       "      <th>min</th>\n",
       "      <td>1919.000000</td>\n",
       "    </tr>\n",
       "    <tr>\n",
       "      <th>25%</th>\n",
       "      <td>2011.000000</td>\n",
       "    </tr>\n",
       "    <tr>\n",
       "      <th>50%</th>\n",
       "      <td>2014.000000</td>\n",
       "    </tr>\n",
       "    <tr>\n",
       "      <th>75%</th>\n",
       "      <td>2016.000000</td>\n",
       "    </tr>\n",
       "    <tr>\n",
       "      <th>max</th>\n",
       "      <td>2021.000000</td>\n",
       "    </tr>\n",
       "  </tbody>\n",
       "</table>\n",
       "</div>"
      ],
      "text/plain": [
       "       Year Founded\n",
       "count   1074.000000\n",
       "mean    2012.895717\n",
       "std        5.698573\n",
       "min     1919.000000\n",
       "25%     2011.000000\n",
       "50%     2014.000000\n",
       "75%     2016.000000\n",
       "max     2021.000000"
      ]
     },
     "execution_count": 8,
     "metadata": {},
     "output_type": "execute_result"
    }
   ],
   "source": [
    "# Get descriptive statistics\n",
    "\n",
    "companies.describe()\n"
   ]
  },
  {
   "cell_type": "markdown",
   "id": "5f37df61",
   "metadata": {
    "id": "a70475eb-d3a6-42e4-8b71-a49b5a1aa0db"
   },
   "source": [
    "**Question:** Based on the table of descriptive stats generated above, what do you notice about the minimum value in the `Year Founded` column? This is important to know because it helps you understand how early the entries in the data begin."
   ]
  },
  {
   "cell_type": "markdown",
   "id": "bd2ffb44",
   "metadata": {
    "id": "KoM_YE7TlSx7"
   },
   "source": [
    "the minimum value is 1919. That is the year when the record started."
   ]
  },
  {
   "cell_type": "markdown",
   "id": "d4460972",
   "metadata": {
    "id": "390764a7-961c-4ec7-ae11-38943d94b788",
    "tags": []
   },
   "source": [
    "**Question:** What do you notice about the maximum value in the `Year Founded` column? This is important to know because it helps you understand the most recent year captured by the data. "
   ]
  },
  {
   "cell_type": "raw",
   "id": "d0647aad",
   "metadata": {
    "id": "7HQWuLNhZXTZ"
   },
   "source": [
    "the maximum values is 2021. This is the last year available on the dataset."
   ]
  },
  {
   "cell_type": "markdown",
   "id": "82919ebb",
   "metadata": {
    "id": "94b53c7f-54d8-4d1a-ae07-7c28c2ab8f5b",
    "tags": []
   },
   "source": [
    "### Convert the `Date Joined` column to datetime\n",
    "\n",
    "Use the `to_datetime()` function from the `pandas` library  to convert the `Date Joined` column to datetime. This splits each value into year, month, and date components. This is an important step in data cleaning, as it makes the data in this column easier to use in tasks you may encounter. To name a few examples, you may need to compare \"date joined\" between companies or determine how long it took a company to become a unicorn. Having \"date joined\" in datetime form would help you complete such tasks."
   ]
  },
  {
   "cell_type": "code",
   "execution_count": 9,
   "id": "1ae8f71b",
   "metadata": {
    "id": "afe607c8-9dd7-47c3-9fc8-88772f015e2b"
   },
   "outputs": [
    {
     "name": "stderr",
     "output_type": "stream",
     "text": [
      "C:\\Users\\DAD\\AppData\\Local\\Temp\\ipykernel_17800\\465537627.py:4: UserWarning: Could not infer format, so each element will be parsed individually, falling back to `dateutil`. To ensure parsing is consistent and as-expected, please specify a format.\n",
      "  companies['Date Joined'] = pd.to_datetime(companies['Date Joined'])\n"
     ]
    }
   ],
   "source": [
    "# Step 1: Use pd.to_datetime() to convert Date Joined column to datetime \n",
    "# Step 2: Update the column with the converted values\n",
    "\n",
    "companies['Date Joined'] = pd.to_datetime(companies['Date Joined'])\n"
   ]
  },
  {
   "cell_type": "code",
   "execution_count": 10,
   "id": "ccc8ef96",
   "metadata": {
    "id": "SBg22N43bA17"
   },
   "outputs": [
    {
     "name": "stdout",
     "output_type": "stream",
     "text": [
      "<class 'pandas.core.frame.DataFrame'>\n",
      "RangeIndex: 1074 entries, 0 to 1073\n",
      "Data columns (total 10 columns):\n",
      " #   Column            Non-Null Count  Dtype         \n",
      "---  ------            --------------  -----         \n",
      " 0   Company           1074 non-null   object        \n",
      " 1   Valuation         1074 non-null   object        \n",
      " 2   Date Joined       1074 non-null   datetime64[ns]\n",
      " 3   Industry          1074 non-null   object        \n",
      " 4   City              1058 non-null   object        \n",
      " 5   Country/Region    1074 non-null   object        \n",
      " 6   Continent         1074 non-null   object        \n",
      " 7   Year Founded      1074 non-null   int64         \n",
      " 8   Funding           1074 non-null   object        \n",
      " 9   Select Investors  1073 non-null   object        \n",
      "dtypes: datetime64[ns](1), int64(1), object(8)\n",
      "memory usage: 84.0+ KB\n"
     ]
    }
   ],
   "source": [
    "# Use .info() to confirm that the update actually took place\n",
    "\n",
    "companies.info()\n"
   ]
  },
  {
   "cell_type": "markdown",
   "id": "b08663ff",
   "metadata": {
    "id": "ae351a97-926e-40af-91e2-4bd12a5bf888",
    "tags": []
   },
   "source": [
    "### Create a `Year Joined` column\n",
    "\n",
    "It is common to encounter situations where you will need to compare the year joined with the year founded. The `Date Joined` column does not just have year—it has the year, month, and date. Extract the year component from the `Date Joined` column and add those year components into a new column to keep track of each company's year joined."
   ]
  },
  {
   "cell_type": "code",
   "execution_count": 11,
   "id": "e7109774",
   "metadata": {
    "id": "7d8be21b-d625-4a8a-ad8b-a2e4ae7a2c4e"
   },
   "outputs": [],
   "source": [
    "# Step 1: Use .dt.year to extract year component from Date Joined column\n",
    "# Step 2: Add the result as a new column named Year Joined to the DataFrame\n",
    "import datetime as dt\n",
    "companies['Year Joined'] =   companies['Date Joined'].dt.year\n"
   ]
  },
  {
   "cell_type": "code",
   "execution_count": 12,
   "id": "7d5fb4b4",
   "metadata": {
    "id": "eSycjkBTbQB4"
   },
   "outputs": [
    {
     "data": {
      "text/html": [
       "<div>\n",
       "<style scoped>\n",
       "    .dataframe tbody tr th:only-of-type {\n",
       "        vertical-align: middle;\n",
       "    }\n",
       "\n",
       "    .dataframe tbody tr th {\n",
       "        vertical-align: top;\n",
       "    }\n",
       "\n",
       "    .dataframe thead th {\n",
       "        text-align: right;\n",
       "    }\n",
       "</style>\n",
       "<table border=\"1\" class=\"dataframe\">\n",
       "  <thead>\n",
       "    <tr style=\"text-align: right;\">\n",
       "      <th></th>\n",
       "      <th>Company</th>\n",
       "      <th>Valuation</th>\n",
       "      <th>Date Joined</th>\n",
       "      <th>Industry</th>\n",
       "      <th>City</th>\n",
       "      <th>Country/Region</th>\n",
       "      <th>Continent</th>\n",
       "      <th>Year Founded</th>\n",
       "      <th>Funding</th>\n",
       "      <th>Select Investors</th>\n",
       "      <th>Year Joined</th>\n",
       "    </tr>\n",
       "  </thead>\n",
       "  <tbody>\n",
       "    <tr>\n",
       "      <th>0</th>\n",
       "      <td>Bytedance</td>\n",
       "      <td>$180B</td>\n",
       "      <td>2017-04-07</td>\n",
       "      <td>Artificial intelligence</td>\n",
       "      <td>Beijing</td>\n",
       "      <td>China</td>\n",
       "      <td>Asia</td>\n",
       "      <td>2012</td>\n",
       "      <td>$8B</td>\n",
       "      <td>Sequoia Capital China, SIG Asia Investments, S...</td>\n",
       "      <td>2017</td>\n",
       "    </tr>\n",
       "    <tr>\n",
       "      <th>1</th>\n",
       "      <td>SpaceX</td>\n",
       "      <td>$100B</td>\n",
       "      <td>2012-12-01</td>\n",
       "      <td>Other</td>\n",
       "      <td>Hawthorne</td>\n",
       "      <td>United States</td>\n",
       "      <td>North America</td>\n",
       "      <td>2002</td>\n",
       "      <td>$7B</td>\n",
       "      <td>Founders Fund, Draper Fisher Jurvetson, Rothen...</td>\n",
       "      <td>2012</td>\n",
       "    </tr>\n",
       "    <tr>\n",
       "      <th>2</th>\n",
       "      <td>SHEIN</td>\n",
       "      <td>$100B</td>\n",
       "      <td>2018-07-03</td>\n",
       "      <td>E-commerce &amp; direct-to-consumer</td>\n",
       "      <td>Shenzhen</td>\n",
       "      <td>China</td>\n",
       "      <td>Asia</td>\n",
       "      <td>2008</td>\n",
       "      <td>$2B</td>\n",
       "      <td>Tiger Global Management, Sequoia Capital China...</td>\n",
       "      <td>2018</td>\n",
       "    </tr>\n",
       "    <tr>\n",
       "      <th>3</th>\n",
       "      <td>Stripe</td>\n",
       "      <td>$95B</td>\n",
       "      <td>2014-01-23</td>\n",
       "      <td>Fintech</td>\n",
       "      <td>San Francisco</td>\n",
       "      <td>United States</td>\n",
       "      <td>North America</td>\n",
       "      <td>2010</td>\n",
       "      <td>$2B</td>\n",
       "      <td>Khosla Ventures, LowercaseCapital, capitalG</td>\n",
       "      <td>2014</td>\n",
       "    </tr>\n",
       "    <tr>\n",
       "      <th>4</th>\n",
       "      <td>Klarna</td>\n",
       "      <td>$46B</td>\n",
       "      <td>2011-12-12</td>\n",
       "      <td>Fintech</td>\n",
       "      <td>Stockholm</td>\n",
       "      <td>Sweden</td>\n",
       "      <td>Europe</td>\n",
       "      <td>2005</td>\n",
       "      <td>$4B</td>\n",
       "      <td>Institutional Venture Partners, Sequoia Capita...</td>\n",
       "      <td>2011</td>\n",
       "    </tr>\n",
       "  </tbody>\n",
       "</table>\n",
       "</div>"
      ],
      "text/plain": [
       "     Company Valuation Date Joined                         Industry  \\\n",
       "0  Bytedance     $180B  2017-04-07          Artificial intelligence   \n",
       "1     SpaceX     $100B  2012-12-01                            Other   \n",
       "2      SHEIN     $100B  2018-07-03  E-commerce & direct-to-consumer   \n",
       "3     Stripe      $95B  2014-01-23                          Fintech   \n",
       "4     Klarna      $46B  2011-12-12                          Fintech   \n",
       "\n",
       "            City Country/Region      Continent  Year Founded Funding  \\\n",
       "0        Beijing          China           Asia          2012     $8B   \n",
       "1      Hawthorne  United States  North America          2002     $7B   \n",
       "2       Shenzhen          China           Asia          2008     $2B   \n",
       "3  San Francisco  United States  North America          2010     $2B   \n",
       "4      Stockholm         Sweden         Europe          2005     $4B   \n",
       "\n",
       "                                    Select Investors  Year Joined  \n",
       "0  Sequoia Capital China, SIG Asia Investments, S...         2017  \n",
       "1  Founders Fund, Draper Fisher Jurvetson, Rothen...         2012  \n",
       "2  Tiger Global Management, Sequoia Capital China...         2018  \n",
       "3        Khosla Ventures, LowercaseCapital, capitalG         2014  \n",
       "4  Institutional Venture Partners, Sequoia Capita...         2011  "
      ]
     },
     "execution_count": 12,
     "metadata": {},
     "output_type": "execute_result"
    }
   ],
   "source": [
    "# Use .head() to confirm that the new column did get added\n",
    "\n",
    "companies.head(5)"
   ]
  },
  {
   "cell_type": "markdown",
   "id": "584e78f6",
   "metadata": {
    "id": "B4_yxUrQ2Yhp"
   },
   "source": [
    "## Step 4: Results and evaluation\n"
   ]
  },
  {
   "cell_type": "markdown",
   "id": "5381ba24",
   "metadata": {
    "id": "5a99bfd0-95e9-4ed3-a01a-2e430967f98e",
    "tags": []
   },
   "source": [
    "### Take a sample of the data\n",
    "\n",
    "It is not necessary to take a sample of the data in order to conduct the visualizations and EDA that follow. But you may encounter scenarios in the future where you will need to take a sample of the data due to time and resource limitations. For the purpose of developing your skills around sampling, take a sample of the data and work with that sample for the next steps of analysis you want to conduct. Use the `sample()` function for this task.\n",
    "\n",
    "- Use `sample()` with the `n` parameter set to `50` to randomly sample 50 unicorn companies from the data. Be sure to specify the `random_state` parameter to ensure reproducibility of your work. Save the result to a variable called `companies_sampled`."
   ]
  },
  {
   "cell_type": "code",
   "execution_count": 13,
   "id": "a0494591",
   "metadata": {
    "id": "1e5df00e-d64f-417c-b7fc-311a960ecc8c"
   },
   "outputs": [
    {
     "name": "stdout",
     "output_type": "stream",
     "text": [
      "                          Company Valuation Date Joined  \\\n",
      "542                         Aiven       $2B  2021-10-18   \n",
      "370              Jusfoun Big Data       $2B  2018-07-09   \n",
      "307                    Innovaccer       $3B  2021-02-19   \n",
      "493                       Algolia       $2B  2021-07-28   \n",
      "350               SouChe Holdings       $3B  2017-11-01   \n",
      "237                       Webflow       $4B  2021-01-13   \n",
      "475                        Gousto       $2B  2020-11-03   \n",
      "578                Misfits Market       $2B  2021-04-21   \n",
      "462                         Hibob       $2B  2021-10-12   \n",
      "978                    News Break       $1B  2021-01-07   \n",
      "545                     AppsFlyer       $2B  2020-01-21   \n",
      "713                      VideoAmp       $1B  2021-10-21   \n",
      "141                        Checkr       $5B  2019-09-19   \n",
      "275                       Axonius       $3B  2021-03-01   \n",
      "428                        Zenoti       $2B  2020-12-15   \n",
      "453                         Tonal       $2B  2021-03-31   \n",
      "808        Acko General Insurance       $1B  2021-10-28   \n",
      "361                          CFGI       $2B  2021-09-15   \n",
      "1073                        Zwift       $1B  2020-09-16   \n",
      "737                        Island       $1B  2022-03-23   \n",
      "327                       BlockFi       $3B  2021-03-11   \n",
      "842                       Rubicon       $1B  2017-08-25   \n",
      "718                         Alloy       $1B  2021-09-30   \n",
      "192             Applied Intuition       $4B  2020-10-22   \n",
      "657               Hello TransTech       $1B  2018-06-01   \n",
      "549     Black Sesame Technologies       $2B  2021-09-22   \n",
      "626               Keenon Robotics       $1B  2021-09-15   \n",
      "215                        SSENSE       $4B  2021-06-08   \n",
      "912                        Fabric       $1B  2021-10-26   \n",
      "685                        Ouyeel       $1B  2019-06-27   \n",
      "199                 Papaya Global       $4B  2021-03-04   \n",
      "290                       Nextiva       $3B  2021-09-14   \n",
      "107                          Deel       $6B  2021-04-21   \n",
      "670                      DT Dream       $1B  2017-06-08   \n",
      "1008                        Razor       $1B  2021-11-08   \n",
      "243                        OpenAI       $3B  2019-07-22   \n",
      "570                        Kaseya       $2B  2019-03-27   \n",
      "88                      Attentive       $7B  2020-09-23   \n",
      "51                        Alchemy      $10B  2021-10-28   \n",
      "736                     InSightec       $1B  2020-03-06   \n",
      "381                      MindMaze       $2B  2016-01-28   \n",
      "308                      Ironclad       $3B  2022-01-18   \n",
      "746                      YugaByte       $1B  2021-10-28   \n",
      "318                    HighRadius       $3B  2020-01-07   \n",
      "31                          Faire      $12B  2019-10-30   \n",
      "424                       Uplight       $2B  2021-03-03   \n",
      "867                        Assent       $1B  2022-01-06   \n",
      "1009                 Red Ventures       $1B  2015-01-07   \n",
      "359   Cambridge Mobile Telematics       $2B  2018-12-19   \n",
      "342                       Lattice       $3B  2021-03-23   \n",
      "\n",
      "                                 Industry           City  Country/Region  \\\n",
      "542          Internet software & services       Helsinki         Finland   \n",
      "370           Data management & analytics        Beijing           China   \n",
      "307                                Health  San Francisco   United States   \n",
      "493          Internet software & services  San Francisco   United States   \n",
      "350       E-commerce & direct-to-consumer       Hangzhou           China   \n",
      "237          Internet software & services  San Francisco   United States   \n",
      "475   Supply chain, logistics, & delivery         London  United Kingdom   \n",
      "578       E-commerce & direct-to-consumer     Pennsauken   United States   \n",
      "462          Internet software & services       Tel Aviv          Israel   \n",
      "978          Internet software & services  Mountain View   United States   \n",
      "545           Mobile & telecommunications  San Francisco   United States   \n",
      "713          Internet software & services    Los Angeles   United States   \n",
      "141          Internet software & services  San Francisco   United States   \n",
      "275                         Cybersecurity       New York   United States   \n",
      "428          Internet software & services       Bellevue   United States   \n",
      "453       E-commerce & direct-to-consumer  San Francisco   United States   \n",
      "808                               Fintech      Bengaluru           India   \n",
      "361                               Fintech         Boston   United States   \n",
      "1073      E-commerce & direct-to-consumer     Long Beach   United States   \n",
      "737          Internet software & services         Dallas   United States   \n",
      "327                               Fintech    Jersey City   United States   \n",
      "842                                 Other        Atlanta   United States   \n",
      "718                               Fintech       New York   United States   \n",
      "192           Data management & analytics      Sunnyvale   United States   \n",
      "657                 Auto & transportation       Shanghai           China   \n",
      "549               Artificial intelligence       Shanghai           China   \n",
      "626   Supply chain, logistics, & delivery       Shanghai           China   \n",
      "215       E-commerce & direct-to-consumer       Montreal          Canada   \n",
      "912   Supply chain, logistics, & delivery       New York   United States   \n",
      "685          Internet software & services       Shanghai           China   \n",
      "199          Internet software & services       New York   United States   \n",
      "290          Internet software & services     Scottsdale   United States   \n",
      "107                               Fintech  San Francisco   United States   \n",
      "670           Data management & analytics       Hangzhou           China   \n",
      "1008                    Consumer & retail         Berlin         Germany   \n",
      "243               Artificial intelligence  San Francisco   United States   \n",
      "570                         Cybersecurity          Miami   United States   \n",
      "88            Mobile & telecommunications        Hoboken   United States   \n",
      "51                                Fintech  San Francisco   United States   \n",
      "736                                Health   Tirat Carmel          Israel   \n",
      "381                                Health       Lausanne     Switzerland   \n",
      "308          Internet software & services     Sacramento   United States   \n",
      "746           Data management & analytics      Sunnyvale   United States   \n",
      "318                               Fintech        Houston   United States   \n",
      "31                Artificial intelligence  San Francisco   United States   \n",
      "424                                 Other        Boulder   United States   \n",
      "867   Supply chain, logistics, & delivery         Ottawa          Canada   \n",
      "1009                                Other      Fort Mill   United States   \n",
      "359           Mobile & telecommunications      Cambridge   United States   \n",
      "342          Internet software & services  San Francisco   United States   \n",
      "\n",
      "          Continent  Year Founded  Funding  \\\n",
      "542          Europe          2016    $210M   \n",
      "370            Asia          2010    $137M   \n",
      "307   North America          2014    $379M   \n",
      "493   North America          2012    $334M   \n",
      "350            Asia          2012      $1B   \n",
      "237   North America          2012    $335M   \n",
      "475          Europe          2012    $311M   \n",
      "578   North America          2018    $527M   \n",
      "462            Asia          2015    $274M   \n",
      "978   North America          2015    $151M   \n",
      "545   North America          2011    $293M   \n",
      "713   North America          2014    $382M   \n",
      "141   North America          2014    $559M   \n",
      "275   North America          2017    $395M   \n",
      "428   North America          2010    $331M   \n",
      "453   North America          2015    $450M   \n",
      "808            Asia          2016    $458M   \n",
      "361   North America          2000     $19M   \n",
      "1073  North America          2014    $620M   \n",
      "737   North America          2020    $215M   \n",
      "327   North America          2017      $1B   \n",
      "842   North America          2008    $223M   \n",
      "718   North America          2015    $156M   \n",
      "192   North America          2017    $352M   \n",
      "657            Asia          2016      $2B   \n",
      "549            Asia          2016    $115M   \n",
      "626            Asia          2010    $229M   \n",
      "215   North America          2003  Unknown   \n",
      "912   North America          2015    $294M   \n",
      "685            Asia          2015    $432M   \n",
      "199   North America          2016    $440M   \n",
      "290   North America          2008    $200M   \n",
      "107   North America          2018    $629M   \n",
      "670            Asia          2015    $267M   \n",
      "1008         Europe          2020    $167M   \n",
      "243   North America          2015      $1B   \n",
      "570   North America          2000    $545M   \n",
      "88    North America          2016    $863M   \n",
      "51    North America          2017    $564M   \n",
      "736            Asia          1999    $633M   \n",
      "381          Europe          2012    $340M   \n",
      "308   North America          2014    $334M   \n",
      "746   North America          2016    $291M   \n",
      "318   North America          2006    $475M   \n",
      "31    North America          2017      $1B   \n",
      "424   North America          2019  Unknown   \n",
      "867   North America          2010    $534M   \n",
      "1009  North America          2000    $250M   \n",
      "359   North America          2010    $503M   \n",
      "342   North America          2015    $329M   \n",
      "\n",
      "                                       Select Investors  Year Joined  \n",
      "542   Institutional Venture Partners, Atomico, Early...         2021  \n",
      "370     Boxin Capital, DT Capital Partners, IDG Capital         2018  \n",
      "307   M12, WestBridge Capital, Lightspeed Venture Pa...         2021  \n",
      "493                Accel, Alven Capital, Storm Ventures         2021  \n",
      "350   Morningside Ventures, Warburg Pincus, CreditEa...         2017  \n",
      "237       Accel, Silversmith Capital Partners, capitalG         2021  \n",
      "475       MMC Ventures, BGF Ventures, Unilever Ventures         2020  \n",
      "578   Accel, D1 Capita Partners, Greenoaks Capital M...         2021  \n",
      "462   Bessemer Venture Partners, Eight Roads Venture...         2021  \n",
      "978           IDG Capital, Francisco Partners, ZhenFund         2021  \n",
      "545   Magma Venture Partners, Pitango Venture Capita...         2020  \n",
      "713   Simon Equity Partners, Wavemaker Partners, Ant...         2021  \n",
      "141                  Y Combinator, Accel, T. Rowe Price         2019  \n",
      "275   Vertex Ventures Israel, Bessemer Venture Partn...         2021  \n",
      "428   Norwest Venture Partners, Accel, Tiger Global ...         2020  \n",
      "453         Mayfield Fund, Shasta Ventures, L Catterton         2021  \n",
      "808   Intact Ventures, Munich Re Ventures, General A...         2021  \n",
      "361             The Carlyle Group, CVC Capital Partners         2021  \n",
      "1073    Novator Partners, True, Causeway Media Partners         2020  \n",
      "737    Insight Partners, Sequoia Capital, Stripes Group         2022  \n",
      "327             ConsenSys Ventures, Valar Ventures, PUC         2021  \n",
      "842          Goldman Sachs, Leonardo DiCaprio, Promecap         2017  \n",
      "718   Bessemer Venture Partners, Eniac Ventures, Can...         2021  \n",
      "192   Andreessen Horowitz, Lux Capital, General Cata...         2020  \n",
      "657           Ant Financial Services Group, GGV Capital         2018  \n",
      "549   Northern Light Venture Capital, Xiaomi, Future...         2021  \n",
      "626    Yunqi Partners, SoftBank Group, iVision Ventures         2021  \n",
      "215                                     Sequoia Capital         2021  \n",
      "912                Innovation Endeavors, Aleph, Temasek         2021  \n",
      "685                             Taigang Venture Capital         2019  \n",
      "199   Bessemer Venture Partners, Insight Partners, N...         2021  \n",
      "290                      Goldman Sachs Asset Management         2021  \n",
      "107    Andreessen Horowitz, Spark Capital, Y Combinator         2021  \n",
      "670   Alibaba Group, China Everbright Investment Man...         2017  \n",
      "1008  Global Founders Capital, 468 Capital, Redalpin...         2021  \n",
      "243                                     Khosla Ventures         2019  \n",
      "570   Insight Partners, TPG Alternative & Renewable ...         2019  \n",
      "88    NextView Ventures, Eniac Ventures, Sequoia Cap...         2020  \n",
      "51         DFJ Growth Fund, Coatue Management, Addition         2021  \n",
      "736   York Capital Management, GE Healthcare, Koch D...         2020  \n",
      "381                                       Hinduja Group         2016  \n",
      "308                Accel, Sequoia Capital, Y Combinator         2022  \n",
      "746   Lightspeed Venture Partners, Dell Technologies...         2021  \n",
      "318   Susquehanna Growth Equity, Citi Ventures, ICON...         2020  \n",
      "31    Khosla Ventures, Forerunner Ventures, Sequoia ...         2019  \n",
      "424   Rubicon Technology Partners, Max Ventures, Inc...         2021  \n",
      "867   Vista Equity Partners, Warburg Pincus, First A...         2022  \n",
      "1009             Silver Lake Partners, General Atlantic         2015  \n",
      "359                                      SoftBank Group         2018  \n",
      "342       Khosla Ventures, Thrive Capital, Y Combinator         2021  \n"
     ]
    }
   ],
   "source": [
    "# Sample the data\n",
    "\n",
    "companies_sampled = companies.sample(n=50, random_state=42)\n",
    "print(companies_sampled)\n"
   ]
  },
  {
   "cell_type": "raw",
   "id": "63b14164-4753-410f-bfa6-ac8f4893a75f",
   "metadata": {},
   "source": [
    "Clean up of industry values\n",
    "\n",
    "We noticed that the industry type \"Artificial Intelligence\" has also the recurring entry \"Artificial intelligence\" the difference in capitalization created not one but two summary groups for Artifician Intelligence, lets fix those values by replacing \"Artificial intelligence\" entries with \"Artificial Intelligence\" entries."
   ]
  },
  {
   "cell_type": "code",
   "execution_count": 19,
   "id": "1774b607-a193-4ecc-8df0-4465d09ee8b7",
   "metadata": {},
   "outputs": [],
   "source": [
    "companies['Industry'] = companies['Industry'].replace('Artificial intelligence', 'Artificial Intelligence')"
   ]
  },
  {
   "cell_type": "markdown",
   "id": "ab672358",
   "metadata": {
    "id": "10beff64-16e0-464d-93f0-03ab61f7069b",
    "tags": []
   },
   "source": [
    "### Visualize the time it took companies to reach unicorn status\n",
    "\n",
    "Visualize the longest time it took companies to reach unicorn status for each industry represented in the sample. To create a bar plot to visualize this, use the `bar()` function from the `matplotlib.pyplot` module. You'll first need to prepare the data."
   ]
  },
  {
   "cell_type": "code",
   "execution_count": null,
   "id": "26e3ba2c-f838-4fff-a775-58af251c3a25",
   "metadata": {},
   "outputs": [],
   "source": []
  },
  {
   "cell_type": "code",
   "execution_count": 20,
   "id": "e7595531",
   "metadata": {},
   "outputs": [
    {
     "name": "stdout",
     "output_type": "stream",
     "text": [
      "<class 'pandas.core.frame.DataFrame'>\n",
      "RangeIndex: 1074 entries, 0 to 1073\n",
      "Data columns (total 13 columns):\n",
      " #   Column             Non-Null Count  Dtype         \n",
      "---  ------             --------------  -----         \n",
      " 0   Company            1074 non-null   object        \n",
      " 1   Valuation          1074 non-null   object        \n",
      " 2   Date Joined        1074 non-null   datetime64[ns]\n",
      " 3   Industry           1074 non-null   object        \n",
      " 4   City               1058 non-null   object        \n",
      " 5   Country/Region     1074 non-null   object        \n",
      " 6   Continent          1074 non-null   object        \n",
      " 7   Year Founded       1074 non-null   int64         \n",
      " 8   Funding            1074 non-null   object        \n",
      " 9   Select Investors   1073 non-null   object        \n",
      " 10  Year Joined        1074 non-null   int32         \n",
      " 11  Years It Took      1074 non-null   int64         \n",
      " 12  Valuation Numeric  1074 non-null   float64       \n",
      "dtypes: datetime64[ns](1), float64(1), int32(1), int64(2), object(8)\n",
      "memory usage: 105.0+ KB\n"
     ]
    }
   ],
   "source": [
    "# Prepare data for plotting\n",
    "\n",
    "companies.info()\n",
    "companies['Years It Took'] = companies['Year Joined'] - companies['Year Founded']\n",
    "companies_by_industry = companies.groupby(['Industry']).max('Years It Took').sort_values('Years It Took', ascending=False).reset_index()\n",
    " "
   ]
  },
  {
   "cell_type": "code",
   "execution_count": 21,
   "id": "6ea9b322",
   "metadata": {
    "id": "1153ca76-f1e3-4fea-a2db-a5de23614abd"
   },
   "outputs": [
    {
     "data": {
      "image/png": "[encoded data removed]",
      "text/plain": [
       "<Figure size 1800x1000 with 1 Axes>"
      ]
     },
     "metadata": {},
     "output_type": "display_data"
    }
   ],
   "source": [
    "# Create bar plot\n",
    "# with the various industries as the categories of the bars\n",
    "# and the time it took to reach unicorn status as the height of the bars\n",
    "\n",
    "# Set the size of the chart\n",
    "plt.figure(figsize=(18, 10)) \n",
    "\n",
    "# Set x-axis label and Set y-axis label\n",
    "plt.bar(x=companies_by_industry['Industry'], height= companies_by_industry['Years It Took'], label=\" \")\n",
    "plt.plot()\n",
    "\n",
    "plt.xlabel(\"Category\")\n",
    "plt.ylabel(\"Years\")\n",
    "\n",
    "# Set title\n",
    "plt.title(\"Companies classified by sector with the years it took them to become Unicorns\")\n",
    "\n",
    "# Rotate labels on the x-axis as a way to avoid overlap in the positions of the text\n",
    "plt.xticks(rotation=90)\n",
    "plt.legend()\n",
    "# Display the plot\n",
    "plt.show()\n",
    "\n",
    "\n",
    "\n",
    "\n",
    " \n",
    "\n",
    " \n",
    " \n",
    "\n",
    "# Display the plot\n",
    " \n"
   ]
  },
  {
   "cell_type": "markdown",
   "id": "41e2f04c",
   "metadata": {
    "id": "BtgkB4fVudvo",
    "jp-MarkdownHeadingCollapsed": true,
    "tags": []
   },
   "source": [
    "<details>\n",
    "  <summary><h4><strong>Hint 1</strong></h4></summary>\n",
    "\n",
    "To prepare the data for modeling, begin by creating a column that represents the number of years it took each company to reach unicorn status. \n",
    "\n",
    "</details>"
   ]
  },
  {
   "cell_type": "markdown",
   "id": "751907ea",
   "metadata": {
    "id": "bHCMc83Nudvq",
    "jp-MarkdownHeadingCollapsed": true,
    "tags": []
   },
   "source": [
    "<details>\n",
    "  <summary><h4><strong>Hint 2</strong></h4></summary>\n",
    "    \n",
    "To prepare the data for modeling, group the dataframe by industry and get the maximum value in the newly created column for each industry.\n",
    "\n",
    "</details>"
   ]
  },
  {
   "cell_type": "markdown",
   "id": "bffbf13b",
   "metadata": {
    "id": "ttH8ynAyudvr",
    "jp-MarkdownHeadingCollapsed": true,
    "tags": []
   },
   "source": [
    "<details>\n",
    "  <summary><h4><strong>Hint 3</strong></h4></summary>\n",
    "\n",
    "You can use the `plt.bar()` to create the bar plot, passing in the categories and heights of the bars.\n",
    "\n",
    "You can use `plt.title()`, `plt.xlabel()`, and `plt.ylabel()` to set the title, x-axis label, and y-axis label, respectively. \n",
    "\n",
    "You can use `plt.xticks()` to rotate labels on the x-axis of a plot. The parameters `rotation=45, horizontalalignment='right'` can be passed in to rotate the labels by 45 degrees and align the labels to the right. \n",
    "\n",
    "You can use `plt.show()` to display a plot.\n",
    "\n",
    "</details>"
   ]
  },
  {
   "cell_type": "markdown",
   "id": "5add2b37",
   "metadata": {
    "id": "59a1254d-4c99-49a6-b8fa-8dbd26bff000"
   },
   "source": [
    "**Question:** What do you observe from this bar plot?"
   ]
  },
  {
   "cell_type": "markdown",
   "id": "650e961a",
   "metadata": {
    "id": "QNdABMI_lUdO"
   },
   "source": [
    "[Write your response here. Double-click (or enter) to edit.]"
   ]
  },
  {
   "cell_type": "markdown",
   "id": "cd4641f1",
   "metadata": {
    "id": "95bc4742-40ff-4f02-ba94-b25f95094e54",
    "tags": []
   },
   "source": [
    "### Visualize the maximum unicorn company valuation per industry\n",
    "\n",
    "Visualize unicorn companies' maximum valuation for each industry represented in the sample. To create a bar plot to visualize this, use the `bar()` function from the `matplotlib.pyplot` module. Before plotting, create a new column that represents the companies' valuations as numbers (instead of strings, as they're currently represented). Then, use this new column to plot your data."
   ]
  },
  {
   "cell_type": "code",
   "execution_count": 22,
   "id": "3497b516",
   "metadata": {},
   "outputs": [
    {
     "name": "stdout",
     "output_type": "stream",
     "text": [
      "<class 'pandas.core.frame.DataFrame'>\n",
      "RangeIndex: 1074 entries, 0 to 1073\n",
      "Data columns (total 13 columns):\n",
      " #   Column             Non-Null Count  Dtype         \n",
      "---  ------             --------------  -----         \n",
      " 0   Company            1074 non-null   object        \n",
      " 1   Valuation          1074 non-null   object        \n",
      " 2   Date Joined        1074 non-null   datetime64[ns]\n",
      " 3   Industry           1074 non-null   object        \n",
      " 4   City               1058 non-null   object        \n",
      " 5   Country/Region     1074 non-null   object        \n",
      " 6   Continent          1074 non-null   object        \n",
      " 7   Year Founded       1074 non-null   int64         \n",
      " 8   Funding            1074 non-null   object        \n",
      " 9   Select Investors   1073 non-null   object        \n",
      " 10  Year Joined        1074 non-null   int32         \n",
      " 11  Years It Took      1074 non-null   int64         \n",
      " 12  Valuation Numeric  1074 non-null   float64       \n",
      "dtypes: datetime64[ns](1), float64(1), int32(1), int64(2), object(8)\n",
      "memory usage: 105.0+ KB\n"
     ]
    },
    {
     "name": "stderr",
     "output_type": "stream",
     "text": [
      "<>:4: SyntaxWarning: invalid escape sequence '\\d'\n",
      "<>:4: SyntaxWarning: invalid escape sequence '\\d'\n",
      "C:\\Users\\DAD\\AppData\\Local\\Temp\\ipykernel_17800\\817017749.py:4: SyntaxWarning: invalid escape sequence '\\d'\n",
      "  companies['Valuation Numeric'] = companies['Valuation'].str.extract('(\\d+)').astype(float)\n"
     ]
    }
   ],
   "source": [
    "# Create a column representing company valuation as numeric data\n",
    "\n",
    "companies.info()\n",
    "companies['Valuation Numeric'] = companies['Valuation'].str.extract('(\\d+)').astype(float)\n",
    "companies.head(100)\n",
    "\n",
    "companies_by_industry = companies.groupby(['Industry']).max('Valuation Numeric').sort_values('Valuation Numeric', ascending=False).reset_index()\n",
    "#companies_by_industry"
   ]
  },
  {
   "cell_type": "code",
   "execution_count": 23,
   "id": "540b3321",
   "metadata": {
    "id": "5ccf1d5e-877e-4e73-bba8-23875c72494d"
   },
   "outputs": [
    {
     "data": {
      "image/png": "[encoded data removed]",
      "text/plain": [
       "<Figure size 1800x1000 with 1 Axes>"
      ]
     },
     "metadata": {},
     "output_type": "display_data"
    }
   ],
   "source": [
    "# Create bar plot\n",
    "# with the various industries as the categories of the bars\n",
    "# and the maximum valuation for each industry as the height of the bars\n",
    "\n",
    "### YOUR CODE HERE ###\n",
    "plt.figure(figsize=(18, 10)) \n",
    "plt.bar(x=companies_by_industry['Industry'], height= companies_by_industry['Valuation Numeric'], label=\" \")\n",
    "plt.plot()\n",
    "\n",
    "plt.xlabel(\"Category\")\n",
    "plt.ylabel(\"Billions of Dollars\")\n",
    "plt.title(\"Maximum Unicorn Valuation per Industry Type\")\n",
    "plt.xticks(rotation=90)\n",
    "plt.legend()\n",
    "plt.show()\n",
    "\n",
    "\n",
    "\n"
   ]
  },
  {
   "cell_type": "markdown",
   "id": "e415652f",
   "metadata": {
    "id": "NnL6YrfFoA3G",
    "jp-MarkdownHeadingCollapsed": true,
    "tags": []
   },
   "source": [
    "<details>\n",
    "  <summary><h4><strong>Hint 1</strong></h4></summary>\n",
    "\n",
    "Repeat the process from the last task, only this time with different variables.\n",
    "</details>"
   ]
  },
  {
   "cell_type": "markdown",
   "id": "5b3337d6",
   "metadata": {
    "id": "bo8rC9dZoA3H",
    "jp-MarkdownHeadingCollapsed": true,
    "tags": []
   },
   "source": [
    "<details>\n",
    "  <summary><h4><strong>Hint 2</strong></h4></summary>\n",
    "\n",
    "Use the function in the `matplotlib.pyplot` module that allows you to create a bar plot, specifying the category and height for each bar. \n",
    "\n",
    "Use the functions in the `matplotlib.pyplot` module that allow you to set the title, x-axis label, and y-axis label of plots. In that module, there are also functions for rotating the labels on the x-axis and displaying the plot. \n",
    "\n",
    "</details>"
   ]
  },
  {
   "cell_type": "markdown",
   "id": "760eb766",
   "metadata": {
    "id": "TkeTAsUooA3J",
    "jp-MarkdownHeadingCollapsed": true,
    "tags": []
   },
   "source": [
    "<details>\n",
    "  <summary><h4><strong>Hint 3</strong></h4></summary>\n",
    "\n",
    "Use the `plt.bar()` to create the bar plot, passing in the categories and heights of the bars.\n",
    "\n",
    "Use `plt.title()`, `plt.xlabel()`, and `plt.ylabel()` to set the title, x-axis label, and y-axis label, respectively. \n",
    "\n",
    "Use `plt.xticks()` to rotate labels on the x-axis of a plot. The parameters `rotation=45, horizontalalignment='right'` can be passed in to rotate the labels by 45 degrees and align the labels to the right. \n",
    "\n",
    "Use `plt.show()` to display a plot.\n",
    "\n",
    "</details>"
   ]
  },
  {
   "cell_type": "markdown",
   "id": "811fe0c3",
   "metadata": {
    "id": "441c0e4b-56bf-413c-9d40-abe1e5f13253"
   },
   "source": [
    "**Question:** What do you observe from this bar plot? "
   ]
  },
  {
   "cell_type": "raw",
   "id": "d4a873da",
   "metadata": {
    "id": "p_XNHFiPlVvA"
   },
   "source": [
    "Group 1 Artificial Intelligence, 175 Billion in a very short time, less than 20 years!\n",
    "Group 2 Ecommerce and Fintech, 100 Billion in ~22 years\n",
    "\n",
    "Note, there are two categories pointing at the same type of company, the difference is one character in the title:\n",
    "Artificial Intelligence versus Artificial intelligence"
   ]
  },
  {
   "cell_type": "code",
   "execution_count": 33,
   "id": "1a1e58f2",
   "metadata": {},
   "outputs": [
    {
     "name": "stdout",
     "output_type": "stream",
     "text": [
      "                               Industry  Year Founded  Year Joined  \\\n",
      "0                                Health          2020         2022   \n",
      "1                     Consumer & retail          2020         2021   \n",
      "2                                 Other          2021         2022   \n",
      "3                               Fintech          2021         2022   \n",
      "4       E-commerce & direct-to-consumer          2021         2022   \n",
      "5           Data management & analytics          2021         2022   \n",
      "6                         Cybersecurity          2020         2022   \n",
      "7          Internet software & services          2021         2022   \n",
      "8           Mobile & telecommunications          2021         2022   \n",
      "9   Supply chain, logistics, & delivery          2019         2022   \n",
      "10                             Hardware          2019         2022   \n",
      "11                               Edtech          2017         2022   \n",
      "12              Artificial intelligence          2019         2022   \n",
      "13              Artificial Intelligence          2019         2022   \n",
      "14                Auto & transportation          2019         2022   \n",
      "15                               Travel          2018         2022   \n",
      "\n",
      "    Years It Took  \n",
      "0              98  \n",
      "1              37  \n",
      "2              37  \n",
      "3              27  \n",
      "4              24  \n",
      "5              22  \n",
      "6              21  \n",
      "7              21  \n",
      "8              20  \n",
      "9              20  \n",
      "10             18  \n",
      "11             17  \n",
      "12             15  \n",
      "13             14  \n",
      "14             14  \n",
      "15             14  \n"
     ]
    }
   ],
   "source": [
    "print (companies_by_industry)"
   ]
  },
  {
   "cell_type": "markdown",
   "id": "d7875b3d",
   "metadata": {
    "id": "c77e7f0f-d2b9-4464-8a7c-9575d1e1ef9f"
   },
   "source": [
    "## Considerations"
   ]
  },
  {
   "cell_type": "markdown",
   "id": "265dd7a4",
   "metadata": {
    "id": "uPq1FOvCZI6w"
   },
   "source": [
    "**What are some key takeaways that you learned from this lab?**"
   ]
  },
  {
   "cell_type": "raw",
   "id": "94fd99b7",
   "metadata": {
    "id": "nOPK-j3sZLsm"
   },
   "source": [
    "I learned to prepare and clean datasets, create columns with converted values, group on field criteria, conduct exploratory analysis "
   ]
  },
  {
   "cell_type": "markdown",
   "id": "2f5f94fa",
   "metadata": {
    "id": "d2NnpyO_ZL6x"
   },
   "source": [
    "**What findings would you share with others?**"
   ]
  },
  {
   "cell_type": "raw",
   "id": "7c661d7f",
   "metadata": {
    "id": "goG0jEeQZOIr"
   },
   "source": [
    "I would share the two charts showing the years it took these companies to become unicorns and their max valuation, grouped by sector"
   ]
  },
  {
   "cell_type": "markdown",
   "id": "a2353197",
   "metadata": {
    "id": "TLioKMc0ZTZi"
   },
   "source": [
    "**What recommendations would you share with stakeholders based on these findings?**"
   ]
  },
  {
   "cell_type": "raw",
   "id": "39af1372",
   "metadata": {
    "id": "mVFm54BfZTv5"
   },
   "source": [
    "Based on the numbers, I would advise the investing firm to be cautious with investments in AI campanies, the significant difference in such a short period could be a sign of overvaluation."
   ]
  },
  {
   "cell_type": "markdown",
   "id": "e643f308",
   "metadata": {
    "id": "R9sAADZgr-YI"
   },
   "source": [
    "**References**\n",
    "\n",
    "Bhat, M.A. (2022, March). [*Unicorn Companies*](https://www.kaggle.com/datasets/mysarahmadbhat/unicorn-companies). \n",
    "\n"
   ]
  },
  {
   "cell_type": "markdown",
   "id": "88cebc8d",
   "metadata": {},
   "source": [
    "**Congratulations!** You've completed this lab. However, you may not notice a green check mark next to this item on Coursera's platform. Please continue your progress regardless of the check mark. Just click on the \"save\" icon at the top of this notebook to ensure your work has been logged."
   ]
  }
 ],
 "metadata": {
  "colab": {
   "collapsed_sections": [],
   "name": "SR-005_Learner_Facing_Lab_Round4.ipynb",
   "provenance": [],
   "toc_visible": true
  },
  "kernelspec": {
   "display_name": "Python 3 (ipykernel)",
   "language": "python",
   "name": "python3"
  },
  "language_info": {
   "codemirror_mode": {
    "name": "ipython",
    "version": 3
   },
   "file_extension": ".py",
   "mimetype": "text/x-python",
   "name": "python",
   "nbconvert_exporter": "python",
   "pygments_lexer": "ipython3",
   "version": "3.13.1"
  },
  "toc-autonumbering": false,
  "toc-showtags": false
 },
 "nbformat": 4,
 "nbformat_minor": 5
}
