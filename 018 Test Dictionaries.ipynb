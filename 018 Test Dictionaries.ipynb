{
 "cells": [
  {
   "cell_type": "code",
   "execution_count": 4,
   "id": "5380facb-2710-45a2-a553-6fc3e436c1b9",
   "metadata": {},
   "outputs": [
    {
     "name": "stdout",
     "output_type": "stream",
     "text": [
      "zebras\n"
     ]
    }
   ],
   "source": [
    "# Create a dictionary with pens as keys and the animals they contain as values\n",
    "# Dictionaries can be instantiated by using braces\n",
    "zoo = {\n",
    "    'pen_1': 'penguins',\n",
    "    'pen_2': 'zebras', \n",
    "    'pen_3': 'lions',\n",
    "    }\n",
    "\n",
    "print(zoo['pen_2'])\n",
    "# print(zoo[pen_2]) #NameError: name 'pen_2' is not defined\n",
    "\n"
   ]
  },
  {
   "cell_type": "code",
   "execution_count": 8,
   "id": "59a01865-31d7-4d11-9eb6-5beecc066ca1",
   "metadata": {},
   "outputs": [
    {
     "ename": "KeyError",
     "evalue": "'zebras'",
     "output_type": "error",
     "traceback": [
      "\u001b[1;31m---------------------------------------------------------------------------\u001b[0m",
      "\u001b[1;31mKeyError\u001b[0m                                  Traceback (most recent call last)",
      "Cell \u001b[1;32mIn[8], line 1\u001b[0m\n\u001b[1;32m----> 1\u001b[0m \u001b[43mzoo\u001b[49m\u001b[43m[\u001b[49m\u001b[38;5;124;43m'\u001b[39;49m\u001b[38;5;124;43mzebras\u001b[39;49m\u001b[38;5;124;43m'\u001b[39;49m\u001b[43m]\u001b[49m\n",
      "\u001b[1;31mKeyError\u001b[0m: 'zebras'"
     ]
    }
   ],
   "source": [
    "zoo['zebras']"
   ]
  },
  {
   "cell_type": "code",
   "execution_count": 9,
   "id": "24c6fb96-6b5c-4edb-b55e-7d1120825704",
   "metadata": {},
   "outputs": [
    {
     "data": {
      "text/plain": [
       "'zebras'"
      ]
     },
     "execution_count": 9,
     "metadata": {},
     "output_type": "execute_result"
    }
   ],
   "source": [
    "#Dictionaries can also be instantiated using the dict() function\n",
    "zoo = dict(\n",
    "    pen_1='monkeys',\n",
    "    pen_2='zebras',\n",
    "    pen_3='lions',\n",
    ")\n",
    "\n",
    "zoo['pen_2']"
   ]
  },
  {
   "cell_type": "code",
   "execution_count": 10,
   "id": "00407e5a-e40c-449d-9b45-a7f0cb8d5e20",
   "metadata": {},
   "outputs": [
    {
     "data": {
      "text/plain": [
       "'zebras'"
      ]
     },
     "execution_count": 10,
     "metadata": {},
     "output_type": "execute_result"
    }
   ],
   "source": [
    "#Another way to create a dictionary using the dict () function\n",
    "zoo = dict(\n",
    "    [\n",
    "        ['pen_1', 'monkeys'],\n",
    "        ['pen_2', 'zebras'],\n",
    "        ['pen_3', 'lions'],\n",
    "    ]\n",
    ")\n",
    "\n",
    "zoo['pen_2']\n"
   ]
  },
  {
   "cell_type": "code",
   "execution_count": 13,
   "id": "958f8dfb-a19a-47a9-b724-f4648abfd0ae",
   "metadata": {},
   "outputs": [
    {
     "data": {
      "text/plain": [
       "{'pen_1': 'monkeys',\n",
       " 'pen_2': 'zebras',\n",
       " 'pen_3': 'lions',\n",
       " 'pen_4': 'crocodiles'}"
      ]
     },
     "execution_count": 13,
     "metadata": {},
     "output_type": "execute_result"
    }
   ],
   "source": [
    "# Assign a new key: value pair to an existing dictionary\n",
    "zoo['pen_4'] = 'crocodiles'\n",
    "zoo\n"
   ]
  },
  {
   "cell_type": "code",
   "execution_count": 14,
   "id": "57f8b756-6a64-46c0-a8a4-9d46f24e5ecd",
   "metadata": {},
   "outputs": [
    {
     "ename": "KeyError",
     "evalue": "2",
     "output_type": "error",
     "traceback": [
      "\u001b[1;31m---------------------------------------------------------------------------\u001b[0m",
      "\u001b[1;31mKeyError\u001b[0m                                  Traceback (most recent call last)",
      "Cell \u001b[1;32mIn[14], line 2\u001b[0m\n\u001b[0;32m      1\u001b[0m \u001b[38;5;66;03m# Dictionaries are unordered and do not support numerical indexing\u001b[39;00m\n\u001b[1;32m----> 2\u001b[0m \u001b[43mzoo\u001b[49m\u001b[43m[\u001b[49m\u001b[38;5;241;43m2\u001b[39;49m\u001b[43m]\u001b[49m\n",
      "\u001b[1;31mKeyError\u001b[0m: 2"
     ]
    }
   ],
   "source": [
    "# Dictionaries are unordered and do not support numerical indexing\n",
    "zoo[2]"
   ]
  },
  {
   "cell_type": "code",
   "execution_count": 15,
   "id": "8b770411-d1cc-461d-b9f8-90eadcd654ea",
   "metadata": {},
   "outputs": [
    {
     "name": "stdout",
     "output_type": "stream",
     "text": [
      "True\n",
      "False\n"
     ]
    }
   ],
   "source": [
    "#use the 'in' keyworkd to prodcue a boolean of whether a given key exists in a dictionary\n",
    "print('pen_1' in zoo)\n",
    "print('pen_7' in zoo)\n"
   ]
  },
  {
   "cell_type": "code",
   "execution_count": 16,
   "id": "14eb149a-5b0a-41a3-a707-6c03a89d9c86",
   "metadata": {},
   "outputs": [],
   "source": [
    "#Create a list of tuples, each representing the name, age and position of a \n",
    "#player on a basketball team\n",
    "\n",
    "team = [\n",
    "    ('Marta', 20, 'center'),\n",
    "    ('Ana', 22, 'point guard'),\n",
    "    ('Gabi', 22, 'shooting guard'),\n",
    "    ('Luz', 21, 'power forward'),\n",
    "    ('Lorena', 19, 'small forward'),\n",
    "    ]"
   ]
  },
  {
   "cell_type": "code",
   "execution_count": 18,
   "id": "27357636-05c4-4efd-8240-97cfd518f2ef",
   "metadata": {},
   "outputs": [],
   "source": [
    "# add new players to the list\n",
    "team = [\n",
    "    ('Marta', 20, 'center'),\n",
    "    ('Ana', 22, 'point guard'),\n",
    "    ('Gabi', 22, 'shooting guard'),\n",
    "    ('Luz', 21, 'power forward'),\n",
    "    ('Lorena', 19, 'small forward'),\n",
    "    ('Sandra', 19, 'center'),\n",
    "    ('Mari', 18, 'point guard'),\n",
    "    ('Esme', 18, 'shooting guard'),\n",
    "    ('Lin', 18, 'power forward'),\n",
    "    ('Sol', 19, 'small forward'),\n",
    "    ]"
   ]
  },
  {
   "cell_type": "code",
   "execution_count": 21,
   "id": "dd6a6a0b-cae3-4405-9510-c31fe4942fb2",
   "metadata": {},
   "outputs": [
    {
     "data": {
      "text/plain": [
       "{'center': [('Marta', 20), ('Sandra', 19)],\n",
       " 'point guard': [('Ana', 22), ('Mari', 18)],\n",
       " 'shooting guard': [('Gabi', 22), ('Esme', 18)],\n",
       " 'power forward': [('Luz', 21), ('Lin', 18)],\n",
       " 'small forward': [('Lorena', 19), ('Sol', 19)]}"
      ]
     },
     "execution_count": 21,
     "metadata": {},
     "output_type": "execute_result"
    }
   ],
   "source": [
    "# instantiate an empty dictionary\n",
    "new_team = {}\n",
    "\n",
    "# loop over the tuples in the list of players and unpack their values\n",
    "for name, age, position in team:\n",
    "    if position in new_team:\n",
    "        new_team[position].append((name, age))\n",
    "    else:\n",
    "        new_team[position] = [(name, age)]\n",
    "new_team"
   ]
  },
  {
   "cell_type": "code",
   "execution_count": 22,
   "id": "5e4eab9d-f14d-4afa-8eed-2ef60c9f0d3c",
   "metadata": {},
   "outputs": [
    {
     "data": {
      "text/plain": [
       "[('Ana', 22), ('Mari', 18)]"
      ]
     },
     "execution_count": 22,
     "metadata": {},
     "output_type": "execute_result"
    }
   ],
   "source": [
    "#Examine the value at the 'point guard' key\n",
    "new_team['point guard']"
   ]
  },
  {
   "cell_type": "code",
   "execution_count": 26,
   "id": "01704fb0-9e25-48ac-9377-cd8576ab4ee2",
   "metadata": {},
   "outputs": [
    {
     "name": "stdout",
     "output_type": "stream",
     "text": [
      "center\n",
      "point guard\n",
      "shooting guard\n",
      "power forward\n",
      "small forward\n"
     ]
    }
   ],
   "source": [
    "# you can access the a dictionary's keys by looping over them\n",
    "for x in new_team:\n",
    "    print(x)"
   ]
  },
  {
   "cell_type": "code",
   "execution_count": 28,
   "id": "48ffd23b-0171-4b51-b185-108713e7d9ad",
   "metadata": {},
   "outputs": [
    {
     "data": {
      "text/plain": [
       "dict_keys(['center', 'point guard', 'shooting guard', 'power forward', 'small forward'])"
      ]
     },
     "execution_count": 28,
     "metadata": {},
     "output_type": "execute_result"
    }
   ],
   "source": [
    "# The keys() method returns the keys of a dictionary\n",
    "new_team.keys()"
   ]
  },
  {
   "cell_type": "code",
   "execution_count": 29,
   "id": "a1bd61ed-20e8-4b60-afda-8b4052d8d72d",
   "metadata": {},
   "outputs": [
    {
     "data": {
      "text/plain": [
       "dict_values([[('Marta', 20), ('Sandra', 19)], [('Ana', 22), ('Mari', 18)], [('Gabi', 22), ('Esme', 18)], [('Luz', 21), ('Lin', 18)], [('Lorena', 19), ('Sol', 19)]])"
      ]
     },
     "execution_count": 29,
     "metadata": {},
     "output_type": "execute_result"
    }
   ],
   "source": [
    "#The values() method returns all the values in a dictionary\n",
    "new_team.values()"
   ]
  },
  {
   "cell_type": "code",
   "execution_count": 30,
   "id": "75afe31f-5d36-47cd-96b4-fe97c3c7237f",
   "metadata": {},
   "outputs": [
    {
     "name": "stdout",
     "output_type": "stream",
     "text": [
      "center [('Marta', 20), ('Sandra', 19)]\n",
      "point guard [('Ana', 22), ('Mari', 18)]\n",
      "shooting guard [('Gabi', 22), ('Esme', 18)]\n",
      "power forward [('Luz', 21), ('Lin', 18)]\n",
      "small forward [('Lorena', 19), ('Sol', 19)]\n"
     ]
    }
   ],
   "source": [
    "# The items() method returns both the keys and the values\n",
    "for a,b in new_team.items():\n",
    "    print(a,b)\n",
    "    "
   ]
  },
  {
   "cell_type": "code",
   "execution_count": null,
   "id": "d618a56e-b189-4046-bd7f-288603c37de7",
   "metadata": {},
   "outputs": [],
   "source": []
  },
  {
   "cell_type": "code",
   "execution_count": 31,
   "id": "901f28b3-a34c-49f7-b1c2-b2ef7ac7650f",
   "metadata": {},
   "outputs": [],
   "source": [
    "# Method one for creating dictionaries\n",
    "smallest_countries = {'Africa': 'Seychelles',\n",
    "                     'Asia': 'Maldives',\n",
    "                     'Europe': 'Vatican City',\n",
    "                     'Oceania': 'Nauru',\n",
    "                     'North America': 'St. Kitts and Nevis',\n",
    "                     'South America': 'Suriname'\n",
    "                     }"
   ]
  },
  {
   "cell_type": "code",
   "execution_count": 32,
   "id": "63527cdf-1e3f-4775-b2a3-37e6950120c1",
   "metadata": {},
   "outputs": [],
   "source": [
    "# you can also use empty brackets or the function dict()\n",
    "empty_dict_1 = {}\n",
    "empty_dict_2 = dict()"
   ]
  },
  {
   "cell_type": "code",
   "execution_count": 34,
   "id": "0ff69c1e-8c14-4007-8c63-43ca612ea341",
   "metadata": {},
   "outputs": [],
   "source": [
    "'''The dict() function uses a different syntax, where keys are entered as the function’s keyword arguments\n",
    "and values are assigned with an equals operator:\n",
    "'''\n",
    "\n",
    "smallest_countries = dict(africa='Seychelles',\n",
    "                          asia='Maldives',\n",
    "                          europe='Vatican City',\n",
    "                          oceania='Nauru',\n",
    "                          north_america='St. Kitts and Nevis',\n",
    "                          south_america='Suriname'\n",
    "                         )"
   ]
  },
  {
   "cell_type": "code",
   "execution_count": null,
   "id": "629a9e9e-ef56-49bf-be66-b5b861444587",
   "metadata": {},
   "outputs": [],
   "source": [
    "# Dictionary keys: Can be of any immutable data type, such as strings, numbers, or tuples\n",
    "\n",
    "# Dictionary values: Can be of any data type—mutable or immutable—including other dictionaries or objects"
   ]
  },
  {
   "cell_type": "code",
   "execution_count": 35,
   "id": "384c4b69-1033-4f48-98d9-49513f82dd55",
   "metadata": {},
   "outputs": [
    {
     "ename": "SyntaxError",
     "evalue": "':' expected after dictionary key (473940501.py, line 1)",
     "output_type": "error",
     "traceback": [
      "\u001b[1;36m  Cell \u001b[1;32mIn[35], line 1\u001b[1;36m\u001b[0m\n\u001b[1;33m    invalid_dict = {'numbers': 1, 2, 3}\u001b[0m\n\u001b[1;37m                                  ^\u001b[0m\n\u001b[1;31mSyntaxError\u001b[0m\u001b[1;31m:\u001b[0m ':' expected after dictionary key\n"
     ]
    }
   ],
   "source": [
    "invalid_dict = {'numbers': 1, 2, 3}"
   ]
  },
  {
   "cell_type": "code",
   "execution_count": 36,
   "id": "ee69bcd2-87f9-4123-9e4f-764112a0af10",
   "metadata": {},
   "outputs": [
    {
     "name": "stdout",
     "output_type": "stream",
     "text": [
      "{'numbers': [1, 2, 3]}\n"
     ]
    }
   ],
   "source": [
    "valid_dict = {'numbers': [1, 2, 3]}\n",
    "print(valid_dict)"
   ]
  },
  {
   "cell_type": "code",
   "execution_count": 1,
   "id": "977a356e-a0c8-466d-a79a-1d3d1331db91",
   "metadata": {},
   "outputs": [
    {
     "name": "stdout",
     "output_type": "stream",
     "text": [
      "[1, 2, 3]\n"
     ]
    }
   ],
   "source": [
    "#To access a specific value in a dictionary, you must refer to its key using brackets\n",
    "\n",
    "my_dict = {'nums':[1,2,3],\n",
    "           'abc':['a','b','c']\n",
    "          }\n",
    "print(my_dict['nums'])\n"
   ]
  },
  {
   "cell_type": "code",
   "execution_count": 2,
   "id": "26be30f8-8d4d-4b58-a623-cc3413d29c0d",
   "metadata": {},
   "outputs": [
    {
     "name": "stdout",
     "output_type": "stream",
     "text": [
      "dict_values([[1, 2, 3], ['a', 'b', 'c']])\n"
     ]
    }
   ],
   "source": [
    "# Toa access all values in a dictionary, use the values() method\n",
    "\n",
    "my_dict = {'nums':[1,2,3],\n",
    "           'abc':['a','b','c']\n",
    "          }\n",
    "print(my_dict.values())\n"
   ]
  },
  {
   "cell_type": "code",
   "execution_count": 3,
   "id": "d04819f8-4881-4da2-8cc7-d8e6b8fefef8",
   "metadata": {},
   "outputs": [
    {
     "name": "stdout",
     "output_type": "stream",
     "text": [
      "{'nums': [1, 2, 3], 'abc': ['a', 'b', 'c'], 'floats': [1.0, 2.0, 3.0]}\n"
     ]
    }
   ],
   "source": [
    "#Dictionalies are mutable data structures in Python. You can add to and modify existing dictionaries.\n",
    "#To add a new key to a dictionary, use brackets\n",
    "\n",
    "my_dict['floats'] = [1.0,2.0,3.0]\n",
    "print(my_dict)\n",
    "\n"
   ]
  },
  {
   "cell_type": "code",
   "execution_count": 5,
   "id": "0461869e-dae1-4acd-b93b-9b230baf469e",
   "metadata": {},
   "outputs": [
    {
     "name": "stdout",
     "output_type": "stream",
     "text": [
      "True\n",
      "False\n"
     ]
    }
   ],
   "source": [
    "#To check if a key exists in a dictionary, use the in keyword:\n",
    "\n",
    "smallest_countries = {'Africa': 'Seychelles',\n",
    "                     'Asia': 'Maldives',\n",
    "                     'Europe': 'Vatican City',\n",
    "                     'Oceania': 'Nauru',\n",
    "                     'North America': 'St. Kitts and Nevis',\n",
    "                     'South America': 'Suriname'\n",
    "                     }\n",
    "\n",
    "print('Africa' in smallest_countries)\n",
    "print('Asia' not in smallest_countries)\n",
    "\n"
   ]
  },
  {
   "cell_type": "code",
   "execution_count": 10,
   "id": "927fb487-a44b-4090-a041-12a33dc62ad3",
   "metadata": {},
   "outputs": [
    {
     "name": "stdout",
     "output_type": "stream",
     "text": [
      "{'nums': [1, 2, 3]}\n"
     ]
    }
   ],
   "source": [
    "#To delete a key-value pair from a dictionary, use the del keyworkd\n",
    "\n",
    "my_dict = {'nums': [1, 2, 3],\n",
    "          'abc': ['a', 'b', 'c']\n",
    "          }\n",
    "del my_dict['abc']\n",
    "print(my_dict)"
   ]
  },
  {
   "cell_type": "code",
   "execution_count": 13,
   "id": "eb7d4864-290a-4ee7-afd3-877857418b54",
   "metadata": {},
   "outputs": [
    {
     "name": "stdout",
     "output_type": "stream",
     "text": [
      "dict_items([('nums', [1, 2, 3]), ('abc', ['a', 'b', 'c'])])\n",
      "dict_keys(['nums', 'abc'])\n",
      "dict_values([[1, 2, 3], ['a', 'b', 'c']])\n"
     ]
    }
   ],
   "source": [
    "# items Returns a view of the (key,value)pairs\n",
    "# Keys retun a view of the dictionary's keys\n",
    "# Values returns a view of the dictionary's values\n",
    "\n",
    "my_dict = {'nums': [1, 2, 3],\n",
    "          'abc': ['a', 'b', 'c']\n",
    "          }\n",
    "print(my_dict.items())\n",
    "print(my_dict.keys())\n",
    "print(my_dict.values())\n",
    "\n",
    "\n",
    "\n",
    "\n"
   ]
  },
  {
   "cell_type": "code",
   "execution_count": null,
   "id": "94376c5c-7c3b-449e-94b6-fc951c2bc606",
   "metadata": {},
   "outputs": [],
   "source": []
  }
 ],
 "metadata": {
  "kernelspec": {
   "display_name": "Python 3 (ipykernel)",
   "language": "python",
   "name": "python3"
  },
  "language_info": {
   "codemirror_mode": {
    "name": "ipython",
    "version": 3
   },
   "file_extension": ".py",
   "mimetype": "text/x-python",
   "name": "python",
   "nbconvert_exporter": "python",
   "pygments_lexer": "ipython3",
   "version": "3.13.1"
  }
 },
 "nbformat": 4,
 "nbformat_minor": 5
}
