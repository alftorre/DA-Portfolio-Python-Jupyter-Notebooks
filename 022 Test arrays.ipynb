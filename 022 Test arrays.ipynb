{
 "cells": [
  {
   "cell_type": "code",
   "execution_count": 1,
   "id": "4759f768-d759-4f14-b438-c97a392b786d",
   "metadata": {},
   "outputs": [
    {
     "data": {
      "text/plain": [
       "array([1, 2, 3])"
      ]
     },
     "execution_count": 1,
     "metadata": {},
     "output_type": "execute_result"
    }
   ],
   "source": [
    "import numpy as np\n",
    "array_1d = np.array([1,2,3]) # it is similar to a list\n",
    "array_1d\n"
   ]
  },
  {
   "cell_type": "code",
   "execution_count": 2,
   "id": "8f1d6b3b-f8a7-44a8-9d3e-2d921f867c01",
   "metadata": {},
   "outputs": [
    {
     "data": {
      "text/plain": [
       "array([[1, 2, 3],\n",
       "       [4, 5, 6]])"
      ]
     },
     "execution_count": 2,
     "metadata": {},
     "output_type": "execute_result"
    }
   ],
   "source": [
    "# 2D arrays\n",
    "array_2d = np.array([(1,2,3), (4,5,6)]) # Similar to a table\n",
    "array_2d\n"
   ]
  },
  {
   "cell_type": "code",
   "execution_count": 3,
   "id": "5749f82c-487d-4914-a699-44f51dbbce46",
   "metadata": {},
   "outputs": [
    {
     "data": {
      "text/plain": [
       "array([[[1, 2],\n",
       "        [3, 4]],\n",
       "\n",
       "       [[5, 6],\n",
       "        [7, 8]]])"
      ]
     },
     "execution_count": 3,
     "metadata": {},
     "output_type": "execute_result"
    }
   ],
   "source": [
    "# 3D array\n",
    "array_3d = np.array([[[1,2],[3,4]],[[5,6],[7,8]]]) #similar to two tables\n",
    "array_3d\n"
   ]
  },
  {
   "cell_type": "code",
   "execution_count": 4,
   "id": "5203e294-9371-4f35-8789-8e1805bf8843",
   "metadata": {},
   "outputs": [
    {
     "data": {
      "text/plain": [
       "array([[0., 0.],\n",
       "       [0., 0.],\n",
       "       [0., 0.]])"
      ]
     },
     "execution_count": 4,
     "metadata": {},
     "output_type": "execute_result"
    }
   ],
   "source": [
    "#Creating an array filled with zeros\n",
    "\n",
    "np.zeros((3,2))\n"
   ]
  },
  {
   "cell_type": "code",
   "execution_count": 5,
   "id": "6ea639ee-d97e-40fb-941f-3d807344d45f",
   "metadata": {},
   "outputs": [
    {
     "data": {
      "text/plain": [
       "array([[1., 1.],\n",
       "       [1., 1.]])"
      ]
     },
     "execution_count": 5,
     "metadata": {},
     "output_type": "execute_result"
    }
   ],
   "source": [
    "# Creating an array filled with ones\n",
    "np.ones((2,2))"
   ]
  },
  {
   "cell_type": "code",
   "execution_count": 6,
   "id": "92831e50-6505-4eac-9563-aa94d1ece8a1",
   "metadata": {},
   "outputs": [
    {
     "data": {
      "text/plain": [
       "array([[8, 8, 8],\n",
       "       [8, 8, 8],\n",
       "       [8, 8, 8],\n",
       "       [8, 8, 8],\n",
       "       [8, 8, 8]])"
      ]
     },
     "execution_count": 6,
     "metadata": {},
     "output_type": "execute_result"
    }
   ],
   "source": [
    "# And this creates an array of a desginated shape that is pre filled with a specific value\n",
    "\n",
    "np.full((5,3),8)\n"
   ]
  },
  {
   "cell_type": "code",
   "execution_count": 7,
   "id": "825429a6-957e-445c-b7d7-b5080d37b110",
   "metadata": {},
   "outputs": [
    {
     "name": "stdout",
     "output_type": "stream",
     "text": [
      "[[1 2 3]\n",
      " [4 5 6]]\n",
      "\n"
     ]
    },
    {
     "data": {
      "text/plain": [
       "array([1, 2, 3, 4, 5, 6])"
      ]
     },
     "execution_count": 7,
     "metadata": {},
     "output_type": "execute_result"
    }
   ],
   "source": [
    "# ndarray.flatten() returns a copy of the array collapsed into one dimension\n",
    "\n",
    "array_2d = np.array([(1,2,3), (4,5,6)])\n",
    "print(array_2d)\n",
    "print()\n",
    "array_2d.flatten()"
   ]
  },
  {
   "cell_type": "code",
   "execution_count": 11,
   "id": "55ae9b34-4f9a-4640-899e-339772fd028a",
   "metadata": {},
   "outputs": [
    {
     "name": "stdout",
     "output_type": "stream",
     "text": [
      "[[1 2 3]\n",
      " [4 5 6]]\n",
      "\n"
     ]
    },
    {
     "data": {
      "text/plain": [
       "array([[1, 2],\n",
       "       [3, 4],\n",
       "       [5, 6]])"
      ]
     },
     "execution_count": 11,
     "metadata": {},
     "output_type": "execute_result"
    }
   ],
   "source": [
    "# narray.reshape() gives a new shape to an array without changng its data\n",
    "array_2d = np.array([(1,2,3), (4,5,6)])\n",
    "print(array_2d)\n",
    "print()\n",
    "array_2d.reshape(3,2)\n"
   ]
  },
  {
   "cell_type": "code",
   "execution_count": 10,
   "id": "c76549a2-b31f-4d96-af51-fc9e2ad1f298",
   "metadata": {},
   "outputs": [
    {
     "name": "stdout",
     "output_type": "stream",
     "text": [
      "[[1 2 3]\n",
      " [4 5 6]]\n",
      "\n"
     ]
    },
    {
     "data": {
      "text/plain": [
       "array([[1, 2],\n",
       "       [3, 4],\n",
       "       [5, 6]])"
      ]
     },
     "execution_count": 10,
     "metadata": {},
     "output_type": "execute_result"
    }
   ],
   "source": [
    "# Adding a value of -1 in the desginated new shape makes the process more efficient, as it indicates for NumPy to \n",
    "# automatically infer the value based on other given values\n",
    "\n",
    "array_2d = np.array([(1,2,3),(4,5,6)])\n",
    "print(array_2d)\n",
    "print()\n",
    "array_2d.reshape(3,-1)\n"
   ]
  },
  {
   "cell_type": "code",
   "execution_count": 12,
   "id": "3d76d5f7-2ec7-4be1-88ae-a2dcef61c939",
   "metadata": {},
   "outputs": [
    {
     "name": "stdout",
     "output_type": "stream",
     "text": [
      "[[1 2 3]\n",
      " [4 5 6]]\n",
      "\n"
     ]
    },
    {
     "data": {
      "text/plain": [
       "[[1, 2, 3], [4, 5, 6]]"
      ]
     },
     "execution_count": 12,
     "metadata": {},
     "output_type": "execute_result"
    }
   ],
   "source": [
    "# ndarray.tolist()\n",
    "# this converts an array to a list object. multidimensional arrays are conerted to nested lists\n",
    "\n",
    "array_2d - np.array([(1,2,3), (4,5,6)])\n",
    "print(array_2d)\n",
    "print()\n",
    "array_2d.tolist()\n"
   ]
  },
  {
   "cell_type": "raw",
   "id": "98910825-9263-4eb4-a997-c66febf68e1a",
   "metadata": {},
   "source": [
    "ndarray.max()\n",
    ": returns the maximum value in the array or along a specified axis.\n",
    "\n",
    "ndarray.mean()\n",
    ": returns the mean of all the values in the array or along a specified axis.\n",
    "\n",
    "ndarray.min()\n",
    ": returns the minimum value in the array or along a specified axis.\n",
    "\n",
    "ndarray.std()\n",
    ": returns the standard deviation of all the values in the array or along a specified axis."
   ]
  },
  {
   "cell_type": "code",
   "execution_count": 13,
   "id": "ab4c2a19-0827-4248-924a-48ac312fe548",
   "metadata": {},
   "outputs": [
    {
     "name": "stdout",
     "output_type": "stream",
     "text": [
      "[[1 2 3]\n",
      " [4 5 6]]\n",
      "\n",
      "6\n",
      "3.5\n",
      "1\n",
      "1.707825127659933\n"
     ]
    }
   ],
   "source": [
    "a = np.array([(1, 2, 3), (4, 5, 6)])\n",
    "print(a)\n",
    "print()\n",
    "\n",
    "print(a.max())\n",
    "print(a.mean())\n",
    "print(a.min())\n",
    "print(a.std())"
   ]
  },
  {
   "cell_type": "raw",
   "id": "097aceb2-6201-4e87-9a85-013f00e7faa5",
   "metadata": {},
   "source": [
    "Array attributes\n",
    "NumPy arrays have several attributes that enable you to access information about the array. Some of the most commonly used attributes include the following:\n",
    "\n",
    "ndarray.shape\n",
    ": returns a tuple of the array’s dimensions.\n",
    "\n",
    "ndarray.dtype\n",
    ": returns the data type of the array’s contents.\n",
    "\n",
    "ndarray.size\n",
    ": returns the total number of elements in the array.\n",
    "\n",
    "ndarray.T\n",
    ": returns the array transposed (rows become columns, columns become rows).\n"
   ]
  },
  {
   "cell_type": "code",
   "execution_count": 14,
   "id": "8ff069a2-3631-479b-aff5-64648c969da2",
   "metadata": {},
   "outputs": [
    {
     "name": "stdout",
     "output_type": "stream",
     "text": [
      "[[1 2 3]\n",
      " [4 5 6]]\n",
      "\n",
      "(2, 3)\n",
      "int64\n",
      "6\n",
      "[[1 4]\n",
      " [2 5]\n",
      " [3 6]]\n"
     ]
    }
   ],
   "source": [
    "array_2d = np.array([(1, 2, 3), (4, 5, 6)])\n",
    "print(array_2d)\n",
    "print()\n",
    "\n",
    "print(array_2d.shape)\n",
    "print(array_2d.dtype)\n",
    "print(array_2d.size)\n",
    "print(array_2d.T)"
   ]
  },
  {
   "cell_type": "code",
   "execution_count": null,
   "id": "db38f1bb-26d0-4327-891b-cc5bc400998e",
   "metadata": {},
   "outputs": [],
   "source": [
    "Slicing may also be used to access subarrays of a NumPy array:\n"
   ]
  },
  {
   "cell_type": "code",
   "execution_count": 15,
   "id": "810dfde2-05e2-4d2a-96e4-6e5105fc1e16",
   "metadata": {},
   "outputs": [
    {
     "name": "stdout",
     "output_type": "stream",
     "text": [
      "[[1 2 3]\n",
      " [4 5 6]]\n",
      "\n"
     ]
    },
    {
     "data": {
      "text/plain": [
       "array([[2, 3],\n",
       "       [5, 6]])"
      ]
     },
     "execution_count": 15,
     "metadata": {},
     "output_type": "execute_result"
    }
   ],
   "source": [
    "a = np.array([(1, 2, 3), (4, 5, 6)])\n",
    "print(a)\n",
    "print()\n",
    "\n",
    "a[:, 1:]"
   ]
  },
  {
   "cell_type": "raw",
   "id": "36f78247-061f-457c-a36d-89fe4a45fc95",
   "metadata": {},
   "source": [
    "Array operations\n",
    "NumPy arrays support many operations, \n",
    "including mathematical functions and arithmetic. \n",
    "These include array addition and multiplication, which performs element-wise arithmetic on arrays:\n"
   ]
  },
  {
   "cell_type": "code",
   "execution_count": 16,
   "id": "63f061b7-f565-420d-948b-f746e5d2aa4f",
   "metadata": {},
   "outputs": [
    {
     "name": "stdout",
     "output_type": "stream",
     "text": [
      "a:\n",
      "[[1 2 3]\n",
      " [4 5 6]]\n",
      "\n",
      "b:\n",
      "[[1 2 3]\n",
      " [1 2 3]]\n",
      "\n",
      "a + b:\n",
      "[[2 4 6]\n",
      " [5 7 9]]\n",
      "\n",
      "a * b:\n",
      "[[ 1  4  9]\n",
      " [ 4 10 18]]\n"
     ]
    }
   ],
   "source": [
    "a = np.array([(1, 2, 3), (4, 5, 6)])\n",
    "b = np.array([[1, 2, 3], [1, 2, 3]])\n",
    "print('a:')\n",
    "print(a)\n",
    "print()\n",
    "print('b:')\n",
    "print(b)\n",
    "print()\n",
    "print('a + b:')\n",
    "print(a + b)\n",
    "print()\n",
    "print('a * b:')\n",
    "print(a * b)"
   ]
  },
  {
   "cell_type": "raw",
   "id": "1d5251e3-addb-4f52-a39f-138aee835e0a",
   "metadata": {},
   "source": [
    "Mutability\n",
    "NumPy arrays are mutable, but with certain limitations. For instance, an existing element of an array can be changed:\n"
   ]
  },
  {
   "cell_type": "code",
   "execution_count": 18,
   "id": "7456bfdd-9f3a-4359-9c51-74c5f9d0e44d",
   "metadata": {},
   "outputs": [
    {
     "name": "stdout",
     "output_type": "stream",
     "text": [
      "[[1 2]\n",
      " [3 4]]\n",
      "\n"
     ]
    },
    {
     "data": {
      "text/plain": [
       "array([[  1,   2],\n",
       "       [  3, 100]])"
      ]
     },
     "execution_count": 18,
     "metadata": {},
     "output_type": "execute_result"
    }
   ],
   "source": [
    "a = np.array([(1, 2), (3, 4)])\n",
    "print(a)\n",
    "print()\n",
    "\n",
    "a[1][1] = 100\n",
    "a"
   ]
  },
  {
   "cell_type": "code",
   "execution_count": null,
   "id": "1753a10e-b07a-46bd-a3b1-ca5001be369c",
   "metadata": {},
   "outputs": [],
   "source": [
    "However, the array cannot be lengthened or shortened:"
   ]
  },
  {
   "cell_type": "code",
   "execution_count": 19,
   "id": "1a24152a-debd-45d6-b2b1-29d205fc4178",
   "metadata": {},
   "outputs": [
    {
     "name": "stdout",
     "output_type": "stream",
     "text": [
      "[1 2 3]\n",
      "\n"
     ]
    },
    {
     "ename": "IndexError",
     "evalue": "index 3 is out of bounds for axis 0 with size 3",
     "output_type": "error",
     "traceback": [
      "\u001b[1;31m---------------------------------------------------------------------------\u001b[0m",
      "\u001b[1;31mIndexError\u001b[0m                                Traceback (most recent call last)",
      "Cell \u001b[1;32mIn[19], line 5\u001b[0m\n\u001b[0;32m      2\u001b[0m \u001b[38;5;28mprint\u001b[39m(a)\n\u001b[0;32m      3\u001b[0m \u001b[38;5;28mprint\u001b[39m()\n\u001b[1;32m----> 5\u001b[0m \u001b[43ma\u001b[49m\u001b[43m[\u001b[49m\u001b[38;5;241;43m3\u001b[39;49m\u001b[43m]\u001b[49m \u001b[38;5;241m=\u001b[39m \u001b[38;5;241m100\u001b[39m\n\u001b[0;32m      6\u001b[0m a\n",
      "\u001b[1;31mIndexError\u001b[0m: index 3 is out of bounds for axis 0 with size 3"
     ]
    }
   ],
   "source": [
    "a = np.array([1, 2, 3])\n",
    "print(a)\n",
    "print()\n",
    "\n",
    "a[3] = 100\n",
    "a"
   ]
  },
  {
   "cell_type": "code",
   "execution_count": null,
   "id": "5a4370fd-66ce-4347-8486-f0b609e09177",
   "metadata": {},
   "outputs": [],
   "source": []
  }
 ],
 "metadata": {
  "kernelspec": {
   "display_name": "Python 3 (ipykernel)",
   "language": "python",
   "name": "python3"
  },
  "language_info": {
   "codemirror_mode": {
    "name": "ipython",
    "version": 3
   },
   "file_extension": ".py",
   "mimetype": "text/x-python",
   "name": "python",
   "nbconvert_exporter": "python",
   "pygments_lexer": "ipython3",
   "version": "3.13.1"
  }
 },
 "nbformat": 4,
 "nbformat_minor": 5
}
