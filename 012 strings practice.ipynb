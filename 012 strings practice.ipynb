{
 "cells": [
  {
   "cell_type": "code",
   "execution_count": 3,
   "id": "12ed8c1d-46b0-445e-9d43-31b9ec058946",
   "metadata": {},
   "outputs": [
    {
     "name": "stdout",
     "output_type": "stream",
     "text": [
      "The length of the string is: 4\n"
     ]
    }
   ],
   "source": [
    "my_string = \"1234\"\n",
    "print(\"The length of the string is:\", len(my_string))"
   ]
  },
  {
   "cell_type": "code",
   "execution_count": 6,
   "id": "5c5942bb-9573-4c55-a58a-5dcfa0a73223",
   "metadata": {},
   "outputs": [
    {
     "data": {
      "text/plain": [
       "True"
      ]
     },
     "execution_count": 6,
     "metadata": {},
     "output_type": "execute_result"
    }
   ],
   "source": [
    "my_string = \"pineapple\"\n",
    "\"apple\" in my_string"
   ]
  },
  {
   "cell_type": "code",
   "execution_count": 7,
   "id": "246b15da-3c88-4b30-b325-d0deb32e8609",
   "metadata": {},
   "outputs": [
    {
     "name": "stdout",
     "output_type": "stream",
     "text": [
      "Hello Manuel, your lucky number is 3.\n"
     ]
    }
   ],
   "source": [
    "name = 'Manuel'\n",
    "number = 3\n",
    "print('Hello {}, your lucky number is {}.'.format(name,number))"
   ]
  },
  {
   "cell_type": "code",
   "execution_count": 8,
   "id": "967540e3-dcbb-4d4f-bace-74c1ea9fbd4e",
   "metadata": {},
   "outputs": [
    {
     "name": "stdout",
     "output_type": "stream",
     "text": [
      "Hello Manuel, your lucky number is 3.\n"
     ]
    }
   ],
   "source": [
    "name = 'Manuel'\n",
    "number = 3\n",
    "print('Hello {name}, your lucky number is {num}.'.format(num=number, name=name))"
   ]
  },
  {
   "cell_type": "code",
   "execution_count": 10,
   "id": "acd0c6d0-f433-4fb2-87b7-11a23e40c3d2",
   "metadata": {},
   "outputs": [
    {
     "name": "stdout",
     "output_type": "stream",
     "text": [
      "Base price: $7.75 USD. \n",
      "With tax: $8.2925 USD.\n"
     ]
    }
   ],
   "source": [
    "price = 7.75\n",
    "with_tax = price * 1.07\n",
    "print('Base price: ${} USD. \\nWith tax: ${} USD.'.format(price, with_tax))"
   ]
  },
  {
   "cell_type": "code",
   "execution_count": 11,
   "id": "2c509dcd-77ac-4f32-9484-378b5d5fcf87",
   "metadata": {},
   "outputs": [
    {
     "name": "stdout",
     "output_type": "stream",
     "text": [
      "Base price: $7.75 USD. \n",
      "With tax: $8.29 USD.\n"
     ]
    }
   ],
   "source": [
    "price = 7.75\n",
    "with_tax = price * 1.07\n",
    "print('Base price: ${:.2f} USD. \\nWith tax: ${:.2f} USD.'.format(price, with_tax))"
   ]
  },
  {
   "cell_type": "code",
   "execution_count": 18,
   "id": "88ef0fa8-72e9-4410-9cf3-d7329e91cd84",
   "metadata": {},
   "outputs": [
    {
     "name": "stdout",
     "output_type": "stream",
     "text": [
      "  0 F | -17.78 C\n",
      " 10 F | -12.22 C\n",
      " 20 F |  -6.67 C\n",
      " 30 F |  -1.11 C\n",
      " 40 F |   4.44 C\n",
      " 50 F |  10.00 C\n",
      " 60 F |  15.56 C\n",
      " 70 F |  21.11 C\n",
      " 80 F |  26.67 C\n",
      " 90 F |  32.22 C\n",
      "100 F |  37.78 C\n"
     ]
    }
   ],
   "source": [
    "def to_celsius(x):\n",
    "    return(x-32)* 5/9\n",
    "for x in range(0, 101, 10):\n",
    "    print(\"{:>3} F | {:>6.2f} C\".format(x, to_celsius(x)))\n",
    "\n",
    "    # :>3 aligns the output three spaces to the right\n",
    "    # :>6 aligns the output six spaces to the right\n",
    "    "
   ]
  },
  {
   "cell_type": "code",
   "execution_count": 3,
   "id": "49ebe1e0-3dd0-48d4-aa56-0cfea8891b75",
   "metadata": {},
   "outputs": [
    {
     "name": "stdout",
     "output_type": "stream",
     "text": [
      "String formatting lets you insert values into strings.\n",
      "They can even be numbers, like 100.\n"
     ]
    }
   ],
   "source": [
    "x = 'values'\n",
    "y = 100\n",
    "\n",
    "print('''String formatting lets you insert {} into strings.\n",
    "They can even be numbers, like {}.'''.format(x, y))\n",
    "\n",
    "#Enclosing your string in triple quotes lets you break the string over multiple lines.\n"
   ]
  },
  {
   "cell_type": "code",
   "execution_count": 4,
   "id": "29e3d366-5aef-465a-9cb6-099c5bd87fac",
   "metadata": {},
   "outputs": [
    {
     "name": "stdout",
     "output_type": "stream",
     "text": [
      "A, B\n"
     ]
    }
   ],
   "source": [
    "var_a = 'A'\n",
    "var_b = 'B'\n",
    "print('{a}, {b}'.format(b=var_b, a=var_a))"
   ]
  },
  {
   "cell_type": "code",
   "execution_count": 5,
   "id": "3fbc8ce4-5ae7-4f8e-af1d-7375f4fcff3c",
   "metadata": {},
   "outputs": [
    {
     "name": "stdout",
     "output_type": "stream",
     "text": [
      "B, A\n",
      "A, B\n"
     ]
    }
   ],
   "source": [
    "# You can also include the arguments’ index numbers within the braces to indicate which arguments get inserted in specific spots:\n",
    "\n",
    "var_a = 'A'\n",
    "var_b = 'B'\n",
    "print('{1}, {0}'.format(var_a, var_b))\n",
    "print('{0}, {1}'.format(var_a, var_b))"
   ]
  },
  {
   "cell_type": "code",
   "execution_count": 7,
   "id": "ec44aed0-71d7-4469-917e-3cc6cad3d382",
   "metadata": {},
   "outputs": [
    {
     "name": "stdout",
     "output_type": "stream",
     "text": [
      "1, 2, 3, 4, 5, 6 ...\n"
     ]
    }
   ],
   "source": [
    "#You can have as many arguments as you want:\n",
    "print('{}, {}, {}, {}, {}, {} ...'.format(1, 2, 3, 4, 5, 6))"
   ]
  },
  {
   "cell_type": "code",
   "execution_count": 8,
   "id": "fa3ace3f-bacb-4c10-91f6-5857fc72e9fa",
   "metadata": {},
   "outputs": [
    {
     "name": "stdout",
     "output_type": "stream",
     "text": [
      "abracadabra\n"
     ]
    }
   ],
   "source": [
    "#And you can repeat arguments’ indices:\n",
    "\n",
    "print('{0}{1}{0}'.format('abra', 'cad'))"
   ]
  },
  {
   "cell_type": "raw",
   "id": "7da42edb-e63d-4636-88be-1f490aa4bba3",
   "metadata": {},
   "source": [
    "Literal string interpolation (f-strings)\n",
    "Another string formatting technique that you’ll often encounter when using Python version 3.6+ is literal string interpolation, also known as f-strings. F-strings further minimize the syntax required to embed expressions into strings. They’re called f-strings because the expressions always begin with f (or F—they’re the same). \n"
   ]
  },
  {
   "cell_type": "code",
   "execution_count": 18,
   "id": "28f7931b-8bd0-4e9c-939f-fe47a6b97297",
   "metadata": {},
   "outputs": [
    {
     "name": "stdout",
     "output_type": "stream",
     "text": [
      "1 + 2\n",
      "3\n",
      "var_a =   1.00 \n",
      "var_b =   2.00\n"
     ]
    },
    {
     "data": {
      "text/plain": [
       "'1000.99'"
      ]
     },
     "execution_count": 18,
     "metadata": {},
     "output_type": "execute_result"
    }
   ],
   "source": [
    "var_a = 1\n",
    "var_b = 2\n",
    "print(f'{var_a} + {var_b}')\n",
    "print(f\"{var_a + var_b}\")\n",
    "print(f\"var_a = {var_a:>6.2f} \\nvar_b = {var_b:>6.2f}\")\n",
    "\n",
    "num = 1000.987123\n",
    "f'{num:.2f}'\n",
    "\n"
   ]
  },
  {
   "cell_type": "code",
   "execution_count": 19,
   "id": "7ffd26c7-a545-4c22-a934-28a1e70dc5f1",
   "metadata": {},
   "outputs": [
    {
     "name": "stdout",
     "output_type": "stream",
     "text": [
      "1.001e+03\n",
      "24.9786%\n"
     ]
    }
   ],
   "source": [
    "num = 1000.987123\n",
    "print(f'{num:.3e}')\n",
    "\n",
    "decimal = 0.2497856\n",
    "print(f'{decimal:.4%}')"
   ]
  },
  {
   "cell_type": "raw",
   "id": "28ed12bb-2a84-43be-894b-14493a7b4856",
   "metadata": {},
   "source": [
    "String methods\n",
    "As one of the primary object classes in Python, strings have many built-in methods designed to facilitate working with them. There are too many of these methods to cover all of them here in depth, but some of the most useful include:\n",
    "\n",
    "str.count(sub[, start[, end]])\n",
    "\n",
    "Return the number of non-overlapping occurrences of substring sub in the range [start , end].\n",
    "\n",
    "returns 0 without error if it doesnt find the substring"
   ]
  },
  {
   "cell_type": "code",
   "execution_count": 20,
   "id": "0fe33c11-0017-4188-b035-82aed2948923",
   "metadata": {},
   "outputs": [
    {
     "name": "stdout",
     "output_type": "stream",
     "text": [
      "2\n",
      "1\n"
     ]
    }
   ],
   "source": [
    "my_string = 'Happy birthday'\n",
    "\n",
    "print(my_string.count('y'))\n",
    "print(my_string.count('y', 2, 7))"
   ]
  },
  {
   "cell_type": "raw",
   "id": "0757fae4-5bb5-4293-afd0-31a1dc7613cb",
   "metadata": {},
   "source": [
    "str.find(sub)\n",
    "Return the lowest index in the string where substring sub is found.\n",
    "Return -1 if sub is not found."
   ]
  },
  {
   "cell_type": "code",
   "execution_count": 23,
   "id": "a77b91f3-8cae-4c48-955e-8834660a5423",
   "metadata": {},
   "outputs": [
    {
     "name": "stdout",
     "output_type": "stream",
     "text": [
      "-1\n",
      "6\n"
     ]
    }
   ],
   "source": [
    "my_string = 'Happy birthday'\n",
    "\n",
    "print(my_string.find('borth'))\n",
    "print(my_string.find('birth'))\n"
   ]
  },
  {
   "cell_type": "raw",
   "id": "8b6a2db6-47a8-4277-9b0a-c6e0a63ddb3c",
   "metadata": {},
   "source": [
    "str.join()\n",
    "Return a string which is the concatenation of the strings in iterable. The separator between elements is the string providing this method.\n",
    "\n"
   ]
  },
  {
   "cell_type": "code",
   "execution_count": 24,
   "id": "71c4075f-3fac-48e5-b9c8-586e73c11d57",
   "metadata": {},
   "outputs": [
    {
     "data": {
      "text/plain": [
       "'Happy-birthday-to-you'"
      ]
     },
     "execution_count": 24,
     "metadata": {},
     "output_type": "execute_result"
    }
   ],
   "source": [
    "separator_string = '-'\n",
    "iterable_of_strings = ['Happy', 'birthday', 'to', 'you']\n",
    "\n",
    "separator_string.join(iterable_of_strings)"
   ]
  },
  {
   "cell_type": "raw",
   "id": "7ce8d4c8-4e18-4cde-b07d-ffa1b76013c1",
   "metadata": {},
   "source": [
    "str.partition(sep)\n",
    "Split the string at the first occurrence of sep , and return a 3-tuple containing the part before the separator, the separator itself, and the part after the separator. If the separator is not found, return a 3-tuple containing the string itself, followed by two empty strings."
   ]
  },
  {
   "cell_type": "code",
   "execution_count": 32,
   "id": "696fa710-0439-48f5-8a56-0b9fc388a7c6",
   "metadata": {},
   "outputs": [
    {
     "name": "stdout",
     "output_type": "stream",
     "text": [
      "https://www\n",
      ".\n",
      "google.com/\n"
     ]
    }
   ],
   "source": [
    "my_string = 'https://www.google.com/'\n",
    "\n",
    "my_tuple = my_string.partition('.')\n",
    "\n",
    "print(my_tuple[0])\n",
    "print(my_tuple[1])\n",
    "print(my_tuple[2])\n"
   ]
  },
  {
   "cell_type": "raw",
   "id": "ac18e11a-d53e-41f9-9488-f4fb38be24d7",
   "metadata": {},
   "source": [
    "str.replace(old, new[, count])\n",
    "Return a copy of the string with all occurrences of substring old replaced by new. If the optional argument count is given, only the first count occurrences are replaced."
   ]
  },
  {
   "cell_type": "code",
   "execution_count": 34,
   "id": "28821cd6-9d08-4e62-9bfb-9698ee838c33",
   "metadata": {},
   "outputs": [
    {
     "data": {
      "text/plain": [
       "'PAMPAMPAMlalalalalalalalalala'"
      ]
     },
     "execution_count": 34,
     "metadata": {},
     "output_type": "execute_result"
    }
   ],
   "source": [
    "my_string = 'https://www.google.com/'\n",
    "\n",
    "my_string.replace('google', 'youtube')\n",
    "\n",
    "my_string2 = 'lalalalalalalalalalalalala'\n",
    "\n",
    "my_string2.replace('la','PAM',3"
   ]
  },
  {
   "cell_type": "raw",
   "id": "46bfcfd0-8604-4a8f-82bd-aa38d6a80292",
   "metadata": {},
   "source": [
    "Return a list of the words in the string, using sep (optional) as the delimiter string. If no sep is given, whitespace characters are used as the delimiter. Any number of consecutive whitespaces would indicate a split point, so ' ' (a single whitespace) would split the same way as '   ' (two or more whitespaces)."
   ]
  },
  {
   "cell_type": "code",
   "execution_count": null,
   "id": "424c3853-9ebb-44c2-b9f3-9e296bfa0ab3",
   "metadata": {},
   "outputs": [],
   "source": [
    "my_string = 'Do you know the muffin man?'\n",
    "\n",
    "my_string.split()\n",
    "\n",
    "Note that some of these methods have additional optional parameters. This reading covers only the most rudimentary ones. Reference the full \n",
    "string methods documentation\n",
    " for more information on these functions and other methods not included here.\n",
    "https://docs.python.org/2/library/stdtypes.html#string-methods"
   ]
  },
  {
   "cell_type": "code",
   "execution_count": null,
   "id": "29cacdea-0f6a-460d-ba2d-f6d01b1ec667",
   "metadata": {},
   "outputs": [],
   "source": [
    "import re\n",
    "\n",
    "pattern = 'regex_pattern'\n",
    "\n",
    "match = re.search(pattern, string)"
   ]
  },
  {
   "cell_type": "code",
   "execution_count": 36,
   "id": "deb138a1-c873-41a0-b232-1ea7f89d0f1e",
   "metadata": {},
   "outputs": [
    {
     "data": {
      "text/plain": [
       "<re.Match object; span=(18, 22), match='wall'>"
      ]
     },
     "execution_count": 36,
     "metadata": {},
     "output_type": "execute_result"
    }
   ],
   "source": [
    "import re\n",
    "\n",
    "my_string = 'Three sad tigers swallowed wheat in a wheat field'\n",
    "\n",
    "re.search('wall', my_string)"
   ]
  },
  {
   "cell_type": "code",
   "execution_count": 37,
   "id": "10c82d28-95ff-4f33-9865-b1dd2831c7a1",
   "metadata": {},
   "outputs": [
    {
     "data": {
      "text/plain": [
       "<re.Match object; span=(6, 9), match='sad'>"
      ]
     },
     "execution_count": 37,
     "metadata": {},
     "output_type": "execute_result"
    }
   ],
   "source": [
    "import re\n",
    "\n",
    "my_string = 'Three sad tigers swallowed wheat in a wheat field'\n",
    "\n",
    "re.search('[bms]ad', my_string)"
   ]
  },
  {
   "cell_type": "code",
   "execution_count": null,
   "id": "236e134c-2136-4d2a-8f6a-a98a03086144",
   "metadata": {},
   "outputs": [],
   "source": []
  }
 ],
 "metadata": {
  "kernelspec": {
   "display_name": "Python 3 (ipykernel)",
   "language": "python",
   "name": "python3"
  },
  "language_info": {
   "codemirror_mode": {
    "name": "ipython",
    "version": 3
   },
   "file_extension": ".py",
   "mimetype": "text/x-python",
   "name": "python",
   "nbconvert_exporter": "python",
   "pygments_lexer": "ipython3",
   "version": "3.13.1"
  }
 },
 "nbformat": 4,
 "nbformat_minor": 5
}
